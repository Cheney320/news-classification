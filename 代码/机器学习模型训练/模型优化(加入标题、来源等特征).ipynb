{
 "cells": [
  {
   "cell_type": "code",
   "execution_count": 474,
   "metadata": {},
   "outputs": [],
   "source": [
    "import pandas as pd\n",
    "import numpy as np"
   ]
  },
  {
   "cell_type": "code",
   "execution_count": 475,
   "metadata": {},
   "outputs": [],
   "source": [
    "data = pd.read_excel('../../data/all_news.xlsx')"
   ]
  },
  {
   "cell_type": "code",
   "execution_count": 476,
   "metadata": {},
   "outputs": [
    {
     "data": {
      "text/html": [
       "<div>\n",
       "<style scoped>\n",
       "    .dataframe tbody tr th:only-of-type {\n",
       "        vertical-align: middle;\n",
       "    }\n",
       "\n",
       "    .dataframe tbody tr th {\n",
       "        vertical-align: top;\n",
       "    }\n",
       "\n",
       "    .dataframe thead th {\n",
       "        text-align: right;\n",
       "    }\n",
       "</style>\n",
       "<table border=\"1\" class=\"dataframe\">\n",
       "  <thead>\n",
       "    <tr style=\"text-align: right;\">\n",
       "      <th></th>\n",
       "      <th>title</th>\n",
       "      <th>content</th>\n",
       "      <th>label</th>\n",
       "    </tr>\n",
       "  </thead>\n",
       "  <tbody>\n",
       "    <tr>\n",
       "      <th>0</th>\n",
       "      <td>憋气大会取消了？WE官宣LPL转会窗第一单 辅助Ben离队</td>\n",
       "      <td>腾讯体育讯 北京时间11月20日，WE战队公布了2018年英雄联盟职业选手转会窗口期，LPL...</td>\n",
       "      <td>体育</td>\n",
       "    </tr>\n",
       "    <tr>\n",
       "      <th>1</th>\n",
       "      <td>NBA场均得分近34年最高 欧文：如今联盟没有防守</td>\n",
       "      <td>腾讯体育11月20日讯   NBA新赛季打了一个月，高比分的比赛屡见不鲜。欧文在采访中谈到了...</td>\n",
       "      <td>体育</td>\n",
       "    </tr>\n",
       "    <tr>\n",
       "      <th>2</th>\n",
       "      <td>日本家长为何痴迷让孩子吃苦？“残酷”体育课赋予孩子生存的力量</td>\n",
       "      <td>“我们教会他们，不管在怎样的环境下，只要努力就能成功。不是说，非要把孩子们培养成运动员。”B...</td>\n",
       "      <td>体育</td>\n",
       "    </tr>\n",
       "    <tr>\n",
       "      <th>3</th>\n",
       "      <td>48岁前国脚参加老甲A遭暴力飞铲  胡志军：相信不是故意的</td>\n",
       "      <td>腾讯体育11月20日讯 正在湖北恩施进行的老甲A赛事再次传出争议事件，19下午举行的半决赛广...</td>\n",
       "      <td>体育</td>\n",
       "    </tr>\n",
       "    <tr>\n",
       "      <th>4</th>\n",
       "      <td>利拉德否认曾与老板争吵 交易流言纯属瞎扯</td>\n",
       "      <td>腾讯体育11月20日讯  开拓者队当家球星达米安-利拉德今天在接受采访时否认自己曾与球队已故...</td>\n",
       "      <td>体育</td>\n",
       "    </tr>\n",
       "  </tbody>\n",
       "</table>\n",
       "</div>"
      ],
      "text/plain": [
       "                            title  \\\n",
       "0   憋气大会取消了？WE官宣LPL转会窗第一单 辅助Ben离队   \n",
       "1       NBA场均得分近34年最高 欧文：如今联盟没有防守   \n",
       "2  日本家长为何痴迷让孩子吃苦？“残酷”体育课赋予孩子生存的力量   \n",
       "3   48岁前国脚参加老甲A遭暴力飞铲  胡志军：相信不是故意的   \n",
       "4            利拉德否认曾与老板争吵 交易流言纯属瞎扯   \n",
       "\n",
       "                                             content label  \n",
       "0  腾讯体育讯 北京时间11月20日，WE战队公布了2018年英雄联盟职业选手转会窗口期，LPL...    体育  \n",
       "1  腾讯体育11月20日讯   NBA新赛季打了一个月，高比分的比赛屡见不鲜。欧文在采访中谈到了...    体育  \n",
       "2  “我们教会他们，不管在怎样的环境下，只要努力就能成功。不是说，非要把孩子们培养成运动员。”B...    体育  \n",
       "3  腾讯体育11月20日讯 正在湖北恩施进行的老甲A赛事再次传出争议事件，19下午举行的半决赛广...    体育  \n",
       "4  腾讯体育11月20日讯  开拓者队当家球星达米安-利拉德今天在接受采访时否认自己曾与球队已故...    体育  "
      ]
     },
     "execution_count": 476,
     "metadata": {},
     "output_type": "execute_result"
    }
   ],
   "source": [
    "data.head()"
   ]
  },
  {
   "cell_type": "markdown",
   "metadata": {},
   "source": [
    "### 分词"
   ]
  },
  {
   "cell_type": "code",
   "execution_count": 477,
   "metadata": {},
   "outputs": [],
   "source": [
    "import jieba\n",
    "def splitWord(x):\n",
    "    segment=[]\n",
    "    try:\n",
    "        segs = jieba.lcut(x)\n",
    "        for seg in segs:\n",
    "            if len(seg) > 1 and seg != '\\r\\n':\n",
    "                segment.append(seg)\n",
    "    except:\n",
    "        print(line)\n",
    "    return segment\n",
    "data['title'] = data['title'].apply(lambda x:splitWord(x))\n",
    "data['content'] = data['content'].apply(lambda x:splitWord(x))"
   ]
  },
  {
   "cell_type": "code",
   "execution_count": 478,
   "metadata": {},
   "outputs": [
    {
     "data": {
      "text/html": [
       "<div>\n",
       "<style scoped>\n",
       "    .dataframe tbody tr th:only-of-type {\n",
       "        vertical-align: middle;\n",
       "    }\n",
       "\n",
       "    .dataframe tbody tr th {\n",
       "        vertical-align: top;\n",
       "    }\n",
       "\n",
       "    .dataframe thead th {\n",
       "        text-align: right;\n",
       "    }\n",
       "</style>\n",
       "<table border=\"1\" class=\"dataframe\">\n",
       "  <thead>\n",
       "    <tr style=\"text-align: right;\">\n",
       "      <th></th>\n",
       "      <th>title</th>\n",
       "      <th>content</th>\n",
       "      <th>label</th>\n",
       "    </tr>\n",
       "  </thead>\n",
       "  <tbody>\n",
       "    <tr>\n",
       "      <th>0</th>\n",
       "      <td>[憋气, 大会, 取消, WE, 官宣, LPL, 转会, 第一, 辅助, Ben, 离队]</td>\n",
       "      <td>[腾讯, 体育讯, 北京, 时间, 11, 20, WE, 战队, 公布, 2018, 英雄...</td>\n",
       "      <td>体育</td>\n",
       "    </tr>\n",
       "    <tr>\n",
       "      <th>1</th>\n",
       "      <td>[NBA, 场均, 得分, 34, 最高, 欧文, 如今, 联盟, 没有, 防守]</td>\n",
       "      <td>[腾讯, 体育, 11, 20, 日讯, NBA, 赛季, 一个月, 比分, 比赛, 屡见不...</td>\n",
       "      <td>体育</td>\n",
       "    </tr>\n",
       "    <tr>\n",
       "      <th>2</th>\n",
       "      <td>[日本, 家长, 为何, 痴迷, 孩子, 吃苦, 残酷, 体育课, 赋予, 孩子, 生存, 力量]</td>\n",
       "      <td>[我们, 教会, 他们, 不管, 怎样, 环境, 只要, 努力, 成功, 不是, 非要, 孩...</td>\n",
       "      <td>体育</td>\n",
       "    </tr>\n",
       "    <tr>\n",
       "      <th>3</th>\n",
       "      <td>[48, 国脚, 参加, 老甲, 暴力, 飞铲, 志军, 相信, 不是故意]</td>\n",
       "      <td>[腾讯, 体育, 11, 20, 日讯, 正在, 湖北, 恩施, 进行, 老甲, 赛事, 再...</td>\n",
       "      <td>体育</td>\n",
       "    </tr>\n",
       "    <tr>\n",
       "      <th>4</th>\n",
       "      <td>[拉德, 否认, 老板, 争吵, 交易, 流言, 纯属, 瞎扯]</td>\n",
       "      <td>[腾讯, 体育, 11, 20, 日讯, 开拓者队, 当家, 球星, 达米安, 拉德, 今天...</td>\n",
       "      <td>体育</td>\n",
       "    </tr>\n",
       "  </tbody>\n",
       "</table>\n",
       "</div>"
      ],
      "text/plain": [
       "                                               title  \\\n",
       "0     [憋气, 大会, 取消, WE, 官宣, LPL, 转会, 第一, 辅助, Ben, 离队]   \n",
       "1          [NBA, 场均, 得分, 34, 最高, 欧文, 如今, 联盟, 没有, 防守]   \n",
       "2  [日本, 家长, 为何, 痴迷, 孩子, 吃苦, 残酷, 体育课, 赋予, 孩子, 生存, 力量]   \n",
       "3             [48, 国脚, 参加, 老甲, 暴力, 飞铲, 志军, 相信, 不是故意]   \n",
       "4                   [拉德, 否认, 老板, 争吵, 交易, 流言, 纯属, 瞎扯]   \n",
       "\n",
       "                                             content label  \n",
       "0  [腾讯, 体育讯, 北京, 时间, 11, 20, WE, 战队, 公布, 2018, 英雄...    体育  \n",
       "1  [腾讯, 体育, 11, 20, 日讯, NBA, 赛季, 一个月, 比分, 比赛, 屡见不...    体育  \n",
       "2  [我们, 教会, 他们, 不管, 怎样, 环境, 只要, 努力, 成功, 不是, 非要, 孩...    体育  \n",
       "3  [腾讯, 体育, 11, 20, 日讯, 正在, 湖北, 恩施, 进行, 老甲, 赛事, 再...    体育  \n",
       "4  [腾讯, 体育, 11, 20, 日讯, 开拓者队, 当家, 球星, 达米安, 拉德, 今天...    体育  "
      ]
     },
     "execution_count": 478,
     "metadata": {},
     "output_type": "execute_result"
    }
   ],
   "source": [
    "data.head()"
   ]
  },
  {
   "cell_type": "markdown",
   "metadata": {},
   "source": [
    "### 去停用词"
   ]
  },
  {
   "cell_type": "code",
   "execution_count": 479,
   "metadata": {},
   "outputs": [],
   "source": [
    "with open('../../data/stopwords.txt') as f:\n",
    "    stopwords = []\n",
    "    for line in f:\n",
    "        stopwords.append(line.strip('\\n'))\n",
    "\n",
    "data['title'] = data['title'].apply(lambda x:' '.join([word for word in x if word not in stopwords]))\n",
    "data['content'] = data['content'].apply(lambda x:' '.join([word for word in x if word not in stopwords]))"
   ]
  },
  {
   "cell_type": "code",
   "execution_count": 480,
   "metadata": {},
   "outputs": [
    {
     "data": {
      "text/html": [
       "<div>\n",
       "<style scoped>\n",
       "    .dataframe tbody tr th:only-of-type {\n",
       "        vertical-align: middle;\n",
       "    }\n",
       "\n",
       "    .dataframe tbody tr th {\n",
       "        vertical-align: top;\n",
       "    }\n",
       "\n",
       "    .dataframe thead th {\n",
       "        text-align: right;\n",
       "    }\n",
       "</style>\n",
       "<table border=\"1\" class=\"dataframe\">\n",
       "  <thead>\n",
       "    <tr style=\"text-align: right;\">\n",
       "      <th></th>\n",
       "      <th>title</th>\n",
       "      <th>content</th>\n",
       "      <th>label</th>\n",
       "    </tr>\n",
       "  </thead>\n",
       "  <tbody>\n",
       "    <tr>\n",
       "      <th>0</th>\n",
       "      <td>憋气 大会 取消 WE 官宣 LPL 转会 第一 辅助 Ben 离队</td>\n",
       "      <td>腾讯 体育讯 北京 时间 WE 战队 公布 2018 英雄 联盟 职业 选手 转会 窗口期 ...</td>\n",
       "      <td>体育</td>\n",
       "    </tr>\n",
       "    <tr>\n",
       "      <th>1</th>\n",
       "      <td>NBA 场均 得分 欧文 联盟 防守</td>\n",
       "      <td>腾讯 体育 日讯 NBA 赛季 一个月 比分 比赛 屡见不鲜 欧文 采访 谈到 现状 联盟 ...</td>\n",
       "      <td>体育</td>\n",
       "    </tr>\n",
       "    <tr>\n",
       "      <th>2</th>\n",
       "      <td>日本 家长 痴迷 孩子 吃苦 残酷 体育课 赋予 孩子 生存 力量</td>\n",
       "      <td>教会 环境 努力 成功 非要 孩子 培养 运动员 BUDDY 培养 日本 国脚 武藤嘉纪 著...</td>\n",
       "      <td>体育</td>\n",
       "    </tr>\n",
       "    <tr>\n",
       "      <th>3</th>\n",
       "      <td>国脚 参加 老甲 暴力 飞铲 志军 不是故意</td>\n",
       "      <td>腾讯 体育 日讯 湖北 恩施 老甲 赛事 传出 争议 事件 半决赛 广州队 辽宁队 比赛 广...</td>\n",
       "      <td>体育</td>\n",
       "    </tr>\n",
       "    <tr>\n",
       "      <th>4</th>\n",
       "      <td>拉德 否认 老板 争吵 交易 流言 纯属 瞎扯</td>\n",
       "      <td>腾讯 体育 日讯 开拓者队 当家 球星 达米安 拉德 接受 采访 否认 球队 已故 老板 保...</td>\n",
       "      <td>体育</td>\n",
       "    </tr>\n",
       "  </tbody>\n",
       "</table>\n",
       "</div>"
      ],
      "text/plain": [
       "                                title  \\\n",
       "0  憋气 大会 取消 WE 官宣 LPL 转会 第一 辅助 Ben 离队   \n",
       "1                  NBA 场均 得分 欧文 联盟 防守   \n",
       "2   日本 家长 痴迷 孩子 吃苦 残酷 体育课 赋予 孩子 生存 力量   \n",
       "3              国脚 参加 老甲 暴力 飞铲 志军 不是故意   \n",
       "4             拉德 否认 老板 争吵 交易 流言 纯属 瞎扯   \n",
       "\n",
       "                                             content label  \n",
       "0  腾讯 体育讯 北京 时间 WE 战队 公布 2018 英雄 联盟 职业 选手 转会 窗口期 ...    体育  \n",
       "1  腾讯 体育 日讯 NBA 赛季 一个月 比分 比赛 屡见不鲜 欧文 采访 谈到 现状 联盟 ...    体育  \n",
       "2  教会 环境 努力 成功 非要 孩子 培养 运动员 BUDDY 培养 日本 国脚 武藤嘉纪 著...    体育  \n",
       "3  腾讯 体育 日讯 湖北 恩施 老甲 赛事 传出 争议 事件 半决赛 广州队 辽宁队 比赛 广...    体育  \n",
       "4  腾讯 体育 日讯 开拓者队 当家 球星 达米安 拉德 接受 采访 否认 球队 已故 老板 保...    体育  "
      ]
     },
     "execution_count": 480,
     "metadata": {},
     "output_type": "execute_result"
    }
   ],
   "source": [
    "data.head()"
   ]
  },
  {
   "cell_type": "markdown",
   "metadata": {},
   "source": [
    "### 组合标题和内容特征"
   ]
  },
  {
   "cell_type": "code",
   "execution_count": 481,
   "metadata": {},
   "outputs": [],
   "source": [
    "data['new_content'] = data['title'] + ' ' + data['content']"
   ]
  },
  {
   "cell_type": "code",
   "execution_count": 482,
   "metadata": {},
   "outputs": [
    {
     "data": {
      "text/html": [
       "<div>\n",
       "<style scoped>\n",
       "    .dataframe tbody tr th:only-of-type {\n",
       "        vertical-align: middle;\n",
       "    }\n",
       "\n",
       "    .dataframe tbody tr th {\n",
       "        vertical-align: top;\n",
       "    }\n",
       "\n",
       "    .dataframe thead th {\n",
       "        text-align: right;\n",
       "    }\n",
       "</style>\n",
       "<table border=\"1\" class=\"dataframe\">\n",
       "  <thead>\n",
       "    <tr style=\"text-align: right;\">\n",
       "      <th></th>\n",
       "      <th>title</th>\n",
       "      <th>content</th>\n",
       "      <th>label</th>\n",
       "      <th>new_content</th>\n",
       "    </tr>\n",
       "  </thead>\n",
       "  <tbody>\n",
       "    <tr>\n",
       "      <th>0</th>\n",
       "      <td>憋气 大会 取消 WE 官宣 LPL 转会 第一 辅助 Ben 离队</td>\n",
       "      <td>腾讯 体育讯 北京 时间 WE 战队 公布 2018 英雄 联盟 职业 选手 转会 窗口期 ...</td>\n",
       "      <td>体育</td>\n",
       "      <td>憋气 大会 取消 WE 官宣 LPL 转会 第一 辅助 Ben 离队 腾讯 体育讯 北京 时...</td>\n",
       "    </tr>\n",
       "    <tr>\n",
       "      <th>1</th>\n",
       "      <td>NBA 场均 得分 欧文 联盟 防守</td>\n",
       "      <td>腾讯 体育 日讯 NBA 赛季 一个月 比分 比赛 屡见不鲜 欧文 采访 谈到 现状 联盟 ...</td>\n",
       "      <td>体育</td>\n",
       "      <td>NBA 场均 得分 欧文 联盟 防守 腾讯 体育 日讯 NBA 赛季 一个月 比分 比赛 屡...</td>\n",
       "    </tr>\n",
       "    <tr>\n",
       "      <th>2</th>\n",
       "      <td>日本 家长 痴迷 孩子 吃苦 残酷 体育课 赋予 孩子 生存 力量</td>\n",
       "      <td>教会 环境 努力 成功 非要 孩子 培养 运动员 BUDDY 培养 日本 国脚 武藤嘉纪 著...</td>\n",
       "      <td>体育</td>\n",
       "      <td>日本 家长 痴迷 孩子 吃苦 残酷 体育课 赋予 孩子 生存 力量 教会 环境 努力 成功 ...</td>\n",
       "    </tr>\n",
       "    <tr>\n",
       "      <th>3</th>\n",
       "      <td>国脚 参加 老甲 暴力 飞铲 志军 不是故意</td>\n",
       "      <td>腾讯 体育 日讯 湖北 恩施 老甲 赛事 传出 争议 事件 半决赛 广州队 辽宁队 比赛 广...</td>\n",
       "      <td>体育</td>\n",
       "      <td>国脚 参加 老甲 暴力 飞铲 志军 不是故意 腾讯 体育 日讯 湖北 恩施 老甲 赛事 传出...</td>\n",
       "    </tr>\n",
       "    <tr>\n",
       "      <th>4</th>\n",
       "      <td>拉德 否认 老板 争吵 交易 流言 纯属 瞎扯</td>\n",
       "      <td>腾讯 体育 日讯 开拓者队 当家 球星 达米安 拉德 接受 采访 否认 球队 已故 老板 保...</td>\n",
       "      <td>体育</td>\n",
       "      <td>拉德 否认 老板 争吵 交易 流言 纯属 瞎扯 腾讯 体育 日讯 开拓者队 当家 球星 达米...</td>\n",
       "    </tr>\n",
       "  </tbody>\n",
       "</table>\n",
       "</div>"
      ],
      "text/plain": [
       "                                title  \\\n",
       "0  憋气 大会 取消 WE 官宣 LPL 转会 第一 辅助 Ben 离队   \n",
       "1                  NBA 场均 得分 欧文 联盟 防守   \n",
       "2   日本 家长 痴迷 孩子 吃苦 残酷 体育课 赋予 孩子 生存 力量   \n",
       "3              国脚 参加 老甲 暴力 飞铲 志军 不是故意   \n",
       "4             拉德 否认 老板 争吵 交易 流言 纯属 瞎扯   \n",
       "\n",
       "                                             content label  \\\n",
       "0  腾讯 体育讯 北京 时间 WE 战队 公布 2018 英雄 联盟 职业 选手 转会 窗口期 ...    体育   \n",
       "1  腾讯 体育 日讯 NBA 赛季 一个月 比分 比赛 屡见不鲜 欧文 采访 谈到 现状 联盟 ...    体育   \n",
       "2  教会 环境 努力 成功 非要 孩子 培养 运动员 BUDDY 培养 日本 国脚 武藤嘉纪 著...    体育   \n",
       "3  腾讯 体育 日讯 湖北 恩施 老甲 赛事 传出 争议 事件 半决赛 广州队 辽宁队 比赛 广...    体育   \n",
       "4  腾讯 体育 日讯 开拓者队 当家 球星 达米安 拉德 接受 采访 否认 球队 已故 老板 保...    体育   \n",
       "\n",
       "                                         new_content  \n",
       "0  憋气 大会 取消 WE 官宣 LPL 转会 第一 辅助 Ben 离队 腾讯 体育讯 北京 时...  \n",
       "1  NBA 场均 得分 欧文 联盟 防守 腾讯 体育 日讯 NBA 赛季 一个月 比分 比赛 屡...  \n",
       "2  日本 家长 痴迷 孩子 吃苦 残酷 体育课 赋予 孩子 生存 力量 教会 环境 努力 成功 ...  \n",
       "3  国脚 参加 老甲 暴力 飞铲 志军 不是故意 腾讯 体育 日讯 湖北 恩施 老甲 赛事 传出...  \n",
       "4  拉德 否认 老板 争吵 交易 流言 纯属 瞎扯 腾讯 体育 日讯 开拓者队 当家 球星 达米...  "
      ]
     },
     "execution_count": 482,
     "metadata": {},
     "output_type": "execute_result"
    }
   ],
   "source": [
    "data.head()"
   ]
  },
  {
   "cell_type": "markdown",
   "metadata": {},
   "source": [
    "### 随机打乱数据"
   ]
  },
  {
   "cell_type": "code",
   "execution_count": 483,
   "metadata": {},
   "outputs": [],
   "source": [
    "from sklearn.utils import shuffle\n",
    "data = shuffle(data, random_state=0)"
   ]
  },
  {
   "cell_type": "code",
   "execution_count": 484,
   "metadata": {},
   "outputs": [
    {
     "data": {
      "text/html": [
       "<div>\n",
       "<style scoped>\n",
       "    .dataframe tbody tr th:only-of-type {\n",
       "        vertical-align: middle;\n",
       "    }\n",
       "\n",
       "    .dataframe tbody tr th {\n",
       "        vertical-align: top;\n",
       "    }\n",
       "\n",
       "    .dataframe thead th {\n",
       "        text-align: right;\n",
       "    }\n",
       "</style>\n",
       "<table border=\"1\" class=\"dataframe\">\n",
       "  <thead>\n",
       "    <tr style=\"text-align: right;\">\n",
       "      <th></th>\n",
       "      <th>title</th>\n",
       "      <th>content</th>\n",
       "      <th>label</th>\n",
       "      <th>new_content</th>\n",
       "    </tr>\n",
       "  </thead>\n",
       "  <tbody>\n",
       "    <tr>\n",
       "      <th>883</th>\n",
       "      <td>NBA 年度 热文 出炉 2018 希望 记住 十篇 文章</td>\n",
       "      <td>文章 记录 时光 如果说 一年 365 天是 本书 文字 标注 记忆 书签 鞭辟入里 分析 ...</td>\n",
       "      <td>体育</td>\n",
       "      <td>NBA 年度 热文 出炉 2018 希望 记住 十篇 文章 文章 记录 时光 如果说 一年 ...</td>\n",
       "    </tr>\n",
       "    <tr>\n",
       "      <th>5462</th>\n",
       "      <td>李光洙 公布 恋情 女友 李先彬 宋慧乔 张雨 超越 网友</td>\n",
       "      <td>2018 李光洙 李先彬 恋情 公开 娱乐圈 一弹 粉红 炮弹 光洙 欧巴 2018 顺利 ...</td>\n",
       "      <td>时尚</td>\n",
       "      <td>李光洙 公布 恋情 女友 李先彬 宋慧乔 张雨 超越 网友 2018 李光洙 李先彬 恋情 ...</td>\n",
       "    </tr>\n",
       "    <tr>\n",
       "      <th>799</th>\n",
       "      <td>火箭 震惊 联盟 哈登 之外 两人 功不可没</td>\n",
       "      <td>北京 时间 2019 时差 关系 火箭 主场 比赛 2018 收官 之战 一场 大胜 詹姆斯...</td>\n",
       "      <td>体育</td>\n",
       "      <td>火箭 震惊 联盟 哈登 之外 两人 功不可没 北京 时间 2019 时差 关系 火箭 主场 ...</td>\n",
       "    </tr>\n",
       "    <tr>\n",
       "      <th>1826</th>\n",
       "      <td>邻邦 扫描 伊朗 有意 购入 枭龙 战机 印度 掺和 围堵 中国</td>\n",
       "      <td>2018 南亚 军情 热点 频现 印度 俄罗斯 达成 多项 巨额 军售 订单 伊朗 有意 巴...</td>\n",
       "      <td>军事</td>\n",
       "      <td>邻邦 扫描 伊朗 有意 购入 枭龙 战机 印度 掺和 围堵 中国 2018 南亚 军情 热点...</td>\n",
       "    </tr>\n",
       "    <tr>\n",
       "      <th>6495</th>\n",
       "      <td>车辆 蓝牌 之间 互换 条件 约束</td>\n",
       "      <td>深圳 比亚迪 车辆 销量 新能源 汽车 燃油 汽车 比亚迪 比亚迪 消费者 青睐 消费者 在...</td>\n",
       "      <td>汽车</td>\n",
       "      <td>车辆 蓝牌 之间 互换 条件 约束 深圳 比亚迪 车辆 销量 新能源 汽车 燃油 汽车 比亚...</td>\n",
       "    </tr>\n",
       "  </tbody>\n",
       "</table>\n",
       "</div>"
      ],
      "text/plain": [
       "                                 title  \\\n",
       "883      NBA 年度 热文 出炉 2018 希望 记住 十篇 文章   \n",
       "5462     李光洙 公布 恋情 女友 李先彬 宋慧乔 张雨 超越 网友   \n",
       "799             火箭 震惊 联盟 哈登 之外 两人 功不可没   \n",
       "1826  邻邦 扫描 伊朗 有意 购入 枭龙 战机 印度 掺和 围堵 中国   \n",
       "6495                 车辆 蓝牌 之间 互换 条件 约束   \n",
       "\n",
       "                                                content label  \\\n",
       "883   文章 记录 时光 如果说 一年 365 天是 本书 文字 标注 记忆 书签 鞭辟入里 分析 ...    体育   \n",
       "5462  2018 李光洙 李先彬 恋情 公开 娱乐圈 一弹 粉红 炮弹 光洙 欧巴 2018 顺利 ...    时尚   \n",
       "799   北京 时间 2019 时差 关系 火箭 主场 比赛 2018 收官 之战 一场 大胜 詹姆斯...    体育   \n",
       "1826  2018 南亚 军情 热点 频现 印度 俄罗斯 达成 多项 巨额 军售 订单 伊朗 有意 巴...    军事   \n",
       "6495  深圳 比亚迪 车辆 销量 新能源 汽车 燃油 汽车 比亚迪 比亚迪 消费者 青睐 消费者 在...    汽车   \n",
       "\n",
       "                                            new_content  \n",
       "883   NBA 年度 热文 出炉 2018 希望 记住 十篇 文章 文章 记录 时光 如果说 一年 ...  \n",
       "5462  李光洙 公布 恋情 女友 李先彬 宋慧乔 张雨 超越 网友 2018 李光洙 李先彬 恋情 ...  \n",
       "799   火箭 震惊 联盟 哈登 之外 两人 功不可没 北京 时间 2019 时差 关系 火箭 主场 ...  \n",
       "1826  邻邦 扫描 伊朗 有意 购入 枭龙 战机 印度 掺和 围堵 中国 2018 南亚 军情 热点...  \n",
       "6495  车辆 蓝牌 之间 互换 条件 约束 深圳 比亚迪 车辆 销量 新能源 汽车 燃油 汽车 比亚...  "
      ]
     },
     "execution_count": 484,
     "metadata": {},
     "output_type": "execute_result"
    }
   ],
   "source": [
    "data.head()"
   ]
  },
  {
   "cell_type": "markdown",
   "metadata": {},
   "source": [
    "### 切分数据集"
   ]
  },
  {
   "cell_type": "code",
   "execution_count": 485,
   "metadata": {},
   "outputs": [],
   "source": [
    "X = data['new_content']\n",
    "y = data['label']\n",
    "\n",
    "# 切分为训练集和测试集\n",
    "from sklearn.model_selection import train_test_split\n",
    "X_train, X_test, y_train, y_test = train_test_split(X, y, test_size=0.2, random_state=0)"
   ]
  },
  {
   "cell_type": "markdown",
   "metadata": {},
   "source": [
    "### 模型训练"
   ]
  },
  {
   "cell_type": "code",
   "execution_count": 486,
   "metadata": {},
   "outputs": [
    {
     "name": "stdout",
     "output_type": "stream",
     "text": [
      "(7639, 149415)\n"
     ]
    }
   ],
   "source": [
    "from sklearn.feature_extraction.text import TfidfVectorizer\n",
    "vect = TfidfVectorizer(lowercase=False).fit(X_train)\n",
    "X_train_tfidf = vect.transform(X_train)\n",
    "X_test_tfidf = vect.transform(X_test)\n",
    "print(X_train_tfidf.shape)"
   ]
  },
  {
   "cell_type": "markdown",
   "metadata": {},
   "source": [
    "#### 朴素贝叶斯模型"
   ]
  },
  {
   "cell_type": "code",
   "execution_count": 487,
   "metadata": {},
   "outputs": [
    {
     "data": {
      "text/plain": [
       "MultinomialNB(alpha=0.01, class_prior=None, fit_prior=True)"
      ]
     },
     "execution_count": 487,
     "metadata": {},
     "output_type": "execute_result"
    }
   ],
   "source": [
    "from sklearn.naive_bayes import MultinomialNB\n",
    "clfrNB = MultinomialNB(alpha=0.01)\n",
    "clfrNB.fit(X_train_tfidf, y_train)"
   ]
  },
  {
   "cell_type": "code",
   "execution_count": 488,
   "metadata": {},
   "outputs": [
    {
     "name": "stdout",
     "output_type": "stream",
     "text": [
      "0.9465898677837413\n",
      "0.8403141361256544\n"
     ]
    }
   ],
   "source": [
    "print(clfrNB.score(X_train_tfidf, y_train))\n",
    "print(clfrNB.score(X_test_tfidf, y_test))"
   ]
  },
  {
   "cell_type": "markdown",
   "metadata": {},
   "source": [
    "#### 逻辑回归模型"
   ]
  },
  {
   "cell_type": "code",
   "execution_count": 489,
   "metadata": {},
   "outputs": [
    {
     "name": "stderr",
     "output_type": "stream",
     "text": [
      "/Applications/anaconda3/lib/python3.6/site-packages/sklearn/linear_model/logistic.py:433: FutureWarning: Default solver will be changed to 'lbfgs' in 0.22. Specify a solver to silence this warning.\n",
      "  FutureWarning)\n",
      "/Applications/anaconda3/lib/python3.6/site-packages/sklearn/linear_model/logistic.py:460: FutureWarning: Default multi_class will be changed to 'auto' in 0.22. Specify the multi_class option to silence this warning.\n",
      "  \"this warning.\", FutureWarning)\n"
     ]
    },
    {
     "data": {
      "text/plain": [
       "LogisticRegression(C=1.0, class_weight=None, dual=False, fit_intercept=True,\n",
       "          intercept_scaling=1, max_iter=100, multi_class='warn',\n",
       "          n_jobs=None, penalty='l2', random_state=None, solver='warn',\n",
       "          tol=0.0001, verbose=0, warm_start=False)"
      ]
     },
     "execution_count": 489,
     "metadata": {},
     "output_type": "execute_result"
    }
   ],
   "source": [
    "from sklearn.linear_model import LogisticRegression\n",
    "logis = LogisticRegression()\n",
    "logis.fit(X_train_tfidf, y_train)"
   ]
  },
  {
   "cell_type": "code",
   "execution_count": 490,
   "metadata": {},
   "outputs": [
    {
     "name": "stdout",
     "output_type": "stream",
     "text": [
      "0.9121612776541432\n",
      "0.8293193717277487\n"
     ]
    }
   ],
   "source": [
    "print(logis.score(X_train_tfidf, y_train))\n",
    "print(logis.score(X_test_tfidf, y_test))"
   ]
  },
  {
   "cell_type": "markdown",
   "metadata": {},
   "source": [
    "#### svm模型"
   ]
  },
  {
   "cell_type": "code",
   "execution_count": 491,
   "metadata": {},
   "outputs": [
    {
     "name": "stderr",
     "output_type": "stream",
     "text": [
      "/Applications/anaconda3/lib/python3.6/site-packages/sklearn/svm/base.py:196: FutureWarning: The default value of gamma will change from 'auto' to 'scale' in version 0.22 to account better for unscaled features. Set gamma explicitly to 'auto' or 'scale' to avoid this warning.\n",
      "  \"avoid this warning.\", FutureWarning)\n"
     ]
    },
    {
     "data": {
      "text/plain": [
       "SVC(C=40000, cache_size=200, class_weight=None, coef0=0.0,\n",
       "  decision_function_shape='ovr', degree=3, gamma='auto_deprecated',\n",
       "  kernel='rbf', max_iter=-1, probability=True, random_state=None,\n",
       "  shrinking=True, tol=0.001, verbose=False)"
      ]
     },
     "execution_count": 491,
     "metadata": {},
     "output_type": "execute_result"
    }
   ],
   "source": [
    "from sklearn.svm import SVC\n",
    "svm = SVC(C=40000, probability=True)\n",
    "svm.fit(X_train_tfidf, y_train)"
   ]
  },
  {
   "cell_type": "code",
   "execution_count": 492,
   "metadata": {},
   "outputs": [
    {
     "name": "stdout",
     "output_type": "stream",
     "text": [
      "0.9231574813457258\n",
      "0.8340314136125655\n"
     ]
    }
   ],
   "source": [
    "print(svm.score(X_train_tfidf, y_train))\n",
    "print(svm.score(X_test_tfidf, y_test))"
   ]
  },
  {
   "cell_type": "markdown",
   "metadata": {},
   "source": [
    "### 模型融合"
   ]
  },
  {
   "cell_type": "code",
   "execution_count": 505,
   "metadata": {},
   "outputs": [
    {
     "name": "stderr",
     "output_type": "stream",
     "text": [
      "/Applications/anaconda3/lib/python3.6/site-packages/sklearn/linear_model/logistic.py:433: FutureWarning: Default solver will be changed to 'lbfgs' in 0.22. Specify a solver to silence this warning.\n",
      "  FutureWarning)\n",
      "/Applications/anaconda3/lib/python3.6/site-packages/sklearn/linear_model/logistic.py:460: FutureWarning: Default multi_class will be changed to 'auto' in 0.22. Specify the multi_class option to silence this warning.\n",
      "  \"this warning.\", FutureWarning)\n",
      "/Applications/anaconda3/lib/python3.6/site-packages/sklearn/svm/base.py:196: FutureWarning: The default value of gamma will change from 'auto' to 'scale' in version 0.22 to account better for unscaled features. Set gamma explicitly to 'auto' or 'scale' to avoid this warning.\n",
      "  \"avoid this warning.\", FutureWarning)\n"
     ]
    },
    {
     "name": "stdout",
     "output_type": "stream",
     "text": [
      "0.9389972509490772\n",
      "0.8418848167539267\n"
     ]
    }
   ],
   "source": [
    "from sklearn.ensemble import VotingClassifier\n",
    "eclf = VotingClassifier(estimators=[('nb', clfrNB), ('lg', logis), ('svm', svm)], voting='soft', weights=[1,1,1])\n",
    "eclf.fit(X_train_tfidf, y_train)\n",
    "print(eclf.score(X_train_tfidf, y_train))\n",
    "print(eclf.score(X_test_tfidf, y_test))"
   ]
  },
  {
   "cell_type": "code",
   "execution_count": 511,
   "metadata": {},
   "outputs": [
    {
     "name": "stdout",
     "output_type": "stream",
     "text": [
      "0.9791857572980757\n",
      "0.7712041884816754\n"
     ]
    }
   ],
   "source": [
    "from sklearn.ensemble import RandomForestClassifier\n",
    "rf = RandomForestClassifier(\n",
    "    n_estimators=20,\n",
    "    random_state=0,\n",
    ")\n",
    "rf.fit(X_train_tfidf, y_train)\n",
    "print(rf.score(X_train_tfidf, y_train))\n",
    "print(rf.score(X_test_tfidf, y_test))"
   ]
  },
  {
   "cell_type": "code",
   "execution_count": 513,
   "metadata": {},
   "outputs": [
    {
     "name": "stdout",
     "output_type": "stream",
     "text": [
      "0.9447571671684776\n",
      "0.7916230366492146\n"
     ]
    }
   ],
   "source": [
    "from sklearn.ensemble import GradientBoostingClassifier\n",
    "gb = GradientBoostingClassifier(n_estimators=100, random_state=666)\n",
    "gb.fit(X_train_tfidf, y_train)\n",
    "print(gb.score(X_train_tfidf, y_train))\n",
    "print(gb.score(X_test_tfidf, y_test))"
   ]
  },
  {
   "cell_type": "markdown",
   "metadata": {},
   "source": [
    "### 模型保存"
   ]
  },
  {
   "cell_type": "code",
   "execution_count": 515,
   "metadata": {},
   "outputs": [],
   "source": [
    "import pickle\n",
    "pickle.dump(clfrNB, open(\"models_save/nb0.8403.pkl\", 'wb'))\n",
    "pickle.dump(logis, open(\"models_save/lg0.8293.pkl\", 'wb'))\n",
    "pickle.dump(svm, open(\"models_save/svm0.8340.pkl\", 'wb'))\n",
    "pickle.dump(eclf, open(\"models_save/nb+lg+svm0.8419.pkl\", 'wb'))"
   ]
  },
  {
   "cell_type": "code",
   "execution_count": 516,
   "metadata": {},
   "outputs": [],
   "source": [
    "# 保存词向量\n",
    "pickle.dump(vect, open(\"models_save/vect149415.pkl\", 'wb'))"
   ]
  }
 ],
 "metadata": {
  "kernelspec": {
   "display_name": "Python 3",
   "language": "python",
   "name": "python3"
  },
  "language_info": {
   "codemirror_mode": {
    "name": "ipython",
    "version": 3
   },
   "file_extension": ".py",
   "mimetype": "text/x-python",
   "name": "python",
   "nbconvert_exporter": "python",
   "pygments_lexer": "ipython3",
   "version": "3.6.5"
  }
 },
 "nbformat": 4,
 "nbformat_minor": 2
}
