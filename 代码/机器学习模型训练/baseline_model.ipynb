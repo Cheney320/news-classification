{
 "cells": [
  {
   "cell_type": "markdown",
   "metadata": {},
   "source": [
    "### 导入工具包并读取数据"
   ]
  },
  {
   "cell_type": "code",
   "execution_count": 2,
   "metadata": {
    "ExecuteTime": {
     "end_time": "2019-04-18T15:27:05.236273Z",
     "start_time": "2019-04-18T15:27:04.464108Z"
    },
    "hide_input": false
   },
   "outputs": [],
   "source": [
    "import numpy as np\n",
    "import pandas as pd\n",
    "import random\n",
    "import jieba\n",
    "import warnings\n",
    "warnings.filterwarnings(\"ignore\")"
   ]
  },
  {
   "cell_type": "code",
   "execution_count": 2,
   "metadata": {},
   "outputs": [],
   "source": [
    "df_news = pd.read_excel('../../data/all_news.xlsx')"
   ]
  },
  {
   "cell_type": "markdown",
   "metadata": {},
   "source": [
    "### 随机打乱数据"
   ]
  },
  {
   "cell_type": "code",
   "execution_count": 3,
   "metadata": {},
   "outputs": [],
   "source": [
    "from sklearn.utils import shuffle\n",
    "df_news = shuffle(df_news, random_state=0)"
   ]
  },
  {
   "cell_type": "markdown",
   "metadata": {},
   "source": [
    "### 分词处理"
   ]
  },
  {
   "cell_type": "code",
   "execution_count": null,
   "metadata": {
    "hide_input": false
   },
   "outputs": [],
   "source": [
    "def splitWord(x):\n",
    "    segment=[]\n",
    "    try:\n",
    "        segs = jieba.lcut(x)\n",
    "        for seg in segs:\n",
    "            if len(seg) > 1 and seg != '\\r\\n':\n",
    "                segment.append(seg)\n",
    "    except:\n",
    "        print(x)\n",
    "    return segment\n",
    "df_news['content'] = df_news['content'].apply(lambda x:splitWord(x))"
   ]
  },
  {
   "cell_type": "code",
   "execution_count": 5,
   "metadata": {
    "hide_input": false
   },
   "outputs": [
    {
     "data": {
      "text/html": [
       "<div>\n",
       "<style scoped>\n",
       "    .dataframe tbody tr th:only-of-type {\n",
       "        vertical-align: middle;\n",
       "    }\n",
       "\n",
       "    .dataframe tbody tr th {\n",
       "        vertical-align: top;\n",
       "    }\n",
       "\n",
       "    .dataframe thead th {\n",
       "        text-align: right;\n",
       "    }\n",
       "</style>\n",
       "<table border=\"1\" class=\"dataframe\">\n",
       "  <thead>\n",
       "    <tr style=\"text-align: right;\">\n",
       "      <th></th>\n",
       "      <th>title</th>\n",
       "      <th>content</th>\n",
       "      <th>label</th>\n",
       "    </tr>\n",
       "  </thead>\n",
       "  <tbody>\n",
       "    <tr>\n",
       "      <th>883</th>\n",
       "      <td>NBA年度热文出炉 过去的2018年希望你能记住这十篇文章</td>\n",
       "      <td>[我们, 文章, 记录, 时光, 如果说, 一年, 365, 天是, 本书, 那些, 文字,...</td>\n",
       "      <td>体育</td>\n",
       "    </tr>\n",
       "    <tr>\n",
       "      <th>5462</th>\n",
       "      <td>李光洙公布恋情，女友李先彬竟撞脸宋慧乔张雨绮杨超越看懵网友</td>\n",
       "      <td>[2018, 最后, 一天, 李光洙, 李先彬, 恋情, 公开, 可以, 今年, 娱乐圈, ...</td>\n",
       "      <td>时尚</td>\n",
       "    </tr>\n",
       "    <tr>\n",
       "      <th>799</th>\n",
       "      <td>火箭近11战10胜震惊联盟 哈登之外还有两人功不可没</td>\n",
       "      <td>[今天, 北京, 时间, 2019, 因为, 时差, 关系, 今天, 火箭, 主场, 比赛,...</td>\n",
       "      <td>体育</td>\n",
       "    </tr>\n",
       "    <tr>\n",
       "      <th>1826</th>\n",
       "      <td>邻邦扫描：伊朗有意购入“枭龙”战机 印度“不掺和”围堵中国</td>\n",
       "      <td>[2018, 11, 南亚, 军情, 热点, 频现, 印度, 俄罗斯, 达成, 多项, 巨额...</td>\n",
       "      <td>军事</td>\n",
       "    </tr>\n",
       "    <tr>\n",
       "      <th>6495</th>\n",
       "      <td>车辆蓝牌之间的互换都有哪些条件的约束？</td>\n",
       "      <td>[我们, 知道, 深圳, 比亚迪, 车辆, 销量, 一直, 突出, 不管, 新能源, 汽车,...</td>\n",
       "      <td>汽车</td>\n",
       "    </tr>\n",
       "    <tr>\n",
       "      <th>6512</th>\n",
       "      <td>洗车工6万收回一辆君威准备翻新，修理工：不想后悔就5万卖给我</td>\n",
       "      <td>[家住, 河北, 唐山, 一名, 车工, 海奇, 化名, 由于, 洗车, 打工, 经常, 一...</td>\n",
       "      <td>汽车</td>\n",
       "    </tr>\n",
       "    <tr>\n",
       "      <th>8578</th>\n",
       "      <td>优信三季度营收大增，高盛预计其2020年可盈利</td>\n",
       "      <td>[二手车, 电商, 平台, 优信, 日前, 发布, 2018, 第三季度, 财报, 显示, ...</td>\n",
       "      <td>财经</td>\n",
       "    </tr>\n",
       "    <tr>\n",
       "      <th>4534</th>\n",
       "      <td>get不到针织开衫的时尚感？那是你没穿对</td>\n",
       "      <td>[虽然, 已经, 立冬, 但是, 针织, 开衫, 永远, 不会, 过时, 单品, 20, 大...</td>\n",
       "      <td>时尚</td>\n",
       "    </tr>\n",
       "    <tr>\n",
       "      <th>2670</th>\n",
       "      <td>美国白宫宣布从叙利亚撤军 仍将继续对叙、伊施压</td>\n",
       "      <td>[俄罗斯, 卫星, 通讯社, 消息, 当地, 时间, 周三, 19, 美国白宫, 发言人, ...</td>\n",
       "      <td>国际</td>\n",
       "    </tr>\n",
       "    <tr>\n",
       "      <th>578</th>\n",
       "      <td>王霜独造3球大逆转 4个人防不住她 14场狂造10球征服欧洲</td>\n",
       "      <td>[王霜, 一次, 率队, 逆转, 制造, 帮助, 巴黎, 圣日耳曼, 女足, 稳法, 甲第,...</td>\n",
       "      <td>体育</td>\n",
       "    </tr>\n",
       "    <tr>\n",
       "      <th>6879</th>\n",
       "      <td>父母多年从事传销 成都大三女生无奈选择向警方举报</td>\n",
       "      <td>[10, 27, 一名, 传销, 组织, 女士, 记者, 展示, 传销, 组织, 交钱, 签...</td>\n",
       "      <td>科技</td>\n",
       "    </tr>\n",
       "    <tr>\n",
       "      <th>4156</th>\n",
       "      <td>火箭少女一个比一个穿得厚实，徐梦洁腰上露半截秋衣真“邋遢”</td>\n",
       "      <td>[近日, 火箭, 少女, 101, 现身, 机场, 正值, 冬日, 我们, 看看, 几名, ...</td>\n",
       "      <td>时尚</td>\n",
       "    </tr>\n",
       "    <tr>\n",
       "      <th>7437</th>\n",
       "      <td>为什么Apple Store员工愿意接受较低薪酬？</td>\n",
       "      <td>[如果, 曾经, 光顾, 苹果, Apple, Store, 零售店, 并且, 得到, 员工...</td>\n",
       "      <td>科技</td>\n",
       "    </tr>\n",
       "    <tr>\n",
       "      <th>994</th>\n",
       "      <td>阿根廷防长：若花费40亿美元打捞潜艇太不理智了</td>\n",
       "      <td>[俄罗斯, 塔斯社, 11, 19, 报道, 阿根廷, 国防部长, 奥斯卡, 阿瓜德, 周日...</td>\n",
       "      <td>军事</td>\n",
       "    </tr>\n",
       "    <tr>\n",
       "      <th>5275</th>\n",
       "      <td>关晓彤林心如同穿蓝色礼服，被林心如好气质征服，年龄真不是问题</td>\n",
       "      <td>[前段时间, 华表奖, 可以, 群星, 云集, 抢眼, 作为, 童星, 出身, 关晓彤, 国...</td>\n",
       "      <td>时尚</td>\n",
       "    </tr>\n",
       "    <tr>\n",
       "      <th>565</th>\n",
       "      <td>33岁C罗还这么能射 但平均10脚才进1球 效率真是尴尬</td>\n",
       "      <td>[经历, 尴尬, 一夜, 虽然, 尤文, 再次, 赢球, 这次, 罗有, 一项, 纪录, 再...</td>\n",
       "      <td>体育</td>\n",
       "    </tr>\n",
       "    <tr>\n",
       "      <th>598</th>\n",
       "      <td>梅西告诉你世界第5恐怖数据 把自己活成宇宙队 梅吹疯狂了</td>\n",
       "      <td>[梅西, 打进, 19, 任意球, 这一, 数据, 不仅, 五大, 联赛, 无人, 更是, ...</td>\n",
       "      <td>体育</td>\n",
       "    </tr>\n",
       "    <tr>\n",
       "      <th>1166</th>\n",
       "      <td>简氏：卫星照片显示中国“神雕”无人机现身马兰基地</td>\n",
       "      <td>[观察者, 开源, 英国, 简氏, 防务, 周刊, 11, 14, 报道, 美国, 数字地球...</td>\n",
       "      <td>军事</td>\n",
       "    </tr>\n",
       "    <tr>\n",
       "      <th>4655</th>\n",
       "      <td>7套大衣搭配真人示范，修身又显气质</td>\n",
       "      <td>[今天, 分享, 之前, 一个, 灵魂, 拷问, 假如, 明天, 一个, 重要, 约会, 天...</td>\n",
       "      <td>时尚</td>\n",
       "    </tr>\n",
       "    <tr>\n",
       "      <th>2229</th>\n",
       "      <td>特朗普反击通用汽车关闭工厂 威胁对日本等外国汽车征关税</td>\n",
       "      <td>[11, 28, 美国, 总统, 特朗普, 表示, 白宫, 正在, 研究, 是否, 应该, ...</td>\n",
       "      <td>国际</td>\n",
       "    </tr>\n",
       "    <tr>\n",
       "      <th>9361</th>\n",
       "      <td>许知远：中国崛起时，我们和世界的沟通语言只有消费</td>\n",
       "      <td>[演讲, 许知, 微信, 公众, 吴晓波, 频道, 刚才, 主持人, 回答, 哪儿, 哪儿,...</td>\n",
       "      <td>财经</td>\n",
       "    </tr>\n",
       "    <tr>\n",
       "      <th>9127</th>\n",
       "      <td>中国央行“结构性降息”VS美联储“固执加息”，传递六大信号！</td>\n",
       "      <td>[ID, wallstreetcn, 文中, 观点, 构成, 投资, 建议, 2018, 1...</td>\n",
       "      <td>财经</td>\n",
       "    </tr>\n",
       "    <tr>\n",
       "      <th>5253</th>\n",
       "      <td>看到蔡依林、戚薇、王菊、吴宣仪后，发现明年流行猫眼妆</td>\n",
       "      <td>[除了, 爱看, 艺人, 走红, 什么, 服装, 小编, 关注, 就是, 妆容, 一不小心,...</td>\n",
       "      <td>时尚</td>\n",
       "    </tr>\n",
       "    <tr>\n",
       "      <th>5121</th>\n",
       "      <td>大衣怎么穿才有活力？搭舒适的运动鞋，焕发青春的气息</td>\n",
       "      <td>[天气, 渐冷, 越来越, 仙女, 大衣, 那么, 压抑, 冬天, 如何, 自己, 可以, ...</td>\n",
       "      <td>时尚</td>\n",
       "    </tr>\n",
       "    <tr>\n",
       "      <th>1741</th>\n",
       "      <td>想换飞机？先掏钱！美国估计6代战机价格将是F-35的3倍</td>\n",
       "      <td>[美国空军, 提出, 2030, 空军, 发展, 构想, 具有, 穿透, 制空, 能力, 隐...</td>\n",
       "      <td>军事</td>\n",
       "    </tr>\n",
       "    <tr>\n",
       "      <th>3710</th>\n",
       "      <td>释小龙晒照与童年的自己超时空同框，网友激起回忆杀</td>\n",
       "      <td>[12, 19, 功夫, 影星, 释小龙, 微博上, 一张, 合照, 引起, 网友, 热烈,...</td>\n",
       "      <td>娱乐</td>\n",
       "    </tr>\n",
       "    <tr>\n",
       "      <th>8481</th>\n",
       "      <td>油价今晚再跌4毛2，跌幅再创新高</td>\n",
       "      <td>[今晚, 24, 本市, 汽柴油, 价格, 迎来, 下调, 中宇, 资讯, 测算, 原油, ...</td>\n",
       "      <td>财经</td>\n",
       "    </tr>\n",
       "    <tr>\n",
       "      <th>2111</th>\n",
       "      <td>卡舒吉究竟是谁杀的？特朗普：最近几天之内会得出结论</td>\n",
       "      <td>[环球网, 综合, 报道, 法新社, 18, 报道, 美国, 总统, 特朗普, 周六, 17...</td>\n",
       "      <td>国际</td>\n",
       "    </tr>\n",
       "    <tr>\n",
       "      <th>1373</th>\n",
       "      <td>见死不救！叙库尔德武装抱怨攻打IS大本营未获美军医疗援助</td>\n",
       "      <td>[资料, 叙利亚, 库尔德, 武装, 展示, 150, 组成, 车队, 英国, 太阳报, 网...</td>\n",
       "      <td>军事</td>\n",
       "    </tr>\n",
       "    <tr>\n",
       "      <th>9138</th>\n",
       "      <td>今日头条要卖保险了 开价月薪20K-40K招产品负责人</td>\n",
       "      <td>[近期, 今日, 头条, 进军, 保险行业, 传闻, 坐实, 根据, 国家, 企业, 信息,...</td>\n",
       "      <td>财经</td>\n",
       "    </tr>\n",
       "    <tr>\n",
       "      <th>...</th>\n",
       "      <td>...</td>\n",
       "      <td>...</td>\n",
       "      <td>...</td>\n",
       "    </tr>\n",
       "    <tr>\n",
       "      <th>659</th>\n",
       "      <td>哈里斯关键抛投助球队逆转 篮网客场险胜公牛迎七连胜</td>\n",
       "      <td>[腾讯, 体育, 12, 20, 日讯, 篮网, 客场, 对阵, 公牛, 最终, 篮网, 9...</td>\n",
       "      <td>体育</td>\n",
       "    </tr>\n",
       "    <tr>\n",
       "      <th>797</th>\n",
       "      <td>皇马状态不佳仍能横着走 轻取亚洲冠军 冲世俱杯纪录将超巴萨</td>\n",
       "      <td>[腾讯, 体育, 12, 20, 日讯, 开局, 慢热, 皇马, 依然, 连入, 淘汰, 亚...</td>\n",
       "      <td>体育</td>\n",
       "    </tr>\n",
       "    <tr>\n",
       "      <th>755</th>\n",
       "      <td>辽篮单节失40分上次是1118天前 奇！一遇CBA这两队就懵</td>\n",
       "      <td>[124, 113, 辽宁, 主场, 击败, 青岛, 取得, 10, 连胜, 虽然, 最终,...</td>\n",
       "      <td>体育</td>\n",
       "    </tr>\n",
       "    <tr>\n",
       "      <th>8291</th>\n",
       "      <td>币圈挖矿机萧条英伟达受牵连 股价大跌市值单日缩水230亿美元</td>\n",
       "      <td>[11, 16, 日英, 伟达, 发布, 2019, 第三季度, 财报, 业绩, 不及, 预...</td>\n",
       "      <td>财经</td>\n",
       "    </tr>\n",
       "    <tr>\n",
       "      <th>2496</th>\n",
       "      <td>借DNA身份识别，因珍珠港遭袭牺牲的美国军人八十年后魂归故乡</td>\n",
       "      <td>[12, 著名, 袭击, 珍珠港事件, 77, 周年, 美国, 海军基地, 珍珠港, 二战,...</td>\n",
       "      <td>国际</td>\n",
       "    </tr>\n",
       "    <tr>\n",
       "      <th>7599</th>\n",
       "      <td>外媒：贾跃亭已抵押美国豪宅多次借贷，若法拉第倒闭他将无计可施</td>\n",
       "      <td>[近日, 外媒, 报道, 贾跃亭, 多年, 一直, 制造, 债务, 炸弹, 直到现在, 我们...</td>\n",
       "      <td>科技</td>\n",
       "    </tr>\n",
       "    <tr>\n",
       "      <th>1871</th>\n",
       "      <td>国产C919大型客机103架机在浦东机场首飞成功</td>\n",
       "      <td>[C919, 第三架, 原型机, 首飞, 成功, 摄影, 斯文, 威猛, 网友, 最新, 公...</td>\n",
       "      <td>军事</td>\n",
       "    </tr>\n",
       "    <tr>\n",
       "      <th>2046</th>\n",
       "      <td>一波三折 美国佛州州长选举尘埃落定</td>\n",
       "      <td>[陈立, 美国, 佛罗里达州, 州长, 选举, 迟迟, 难以, 发布, 最终, 结果, 17...</td>\n",
       "      <td>国际</td>\n",
       "    </tr>\n",
       "    <tr>\n",
       "      <th>7877</th>\n",
       "      <td>智能手机的2018：越过山丘？</td>\n",
       "      <td>[图片, 来源, 视觉, 中国, itlaoyou, com2018, 冬天, 格外, 资金...</td>\n",
       "      <td>科技</td>\n",
       "    </tr>\n",
       "    <tr>\n",
       "      <th>4851</th>\n",
       "      <td>长大衣里面套裙子，竟然这么好看</td>\n",
       "      <td>[大街, 随处可见, 大衣, 羽绒服, 裤子, 套路, 越来越, 天气, 如何, 才能, 人...</td>\n",
       "      <td>时尚</td>\n",
       "    </tr>\n",
       "    <tr>\n",
       "      <th>5072</th>\n",
       "      <td>同样是穿棉服 63岁的刘晓庆完胜21岁的关晓彤</td>\n",
       "      <td>[有句, 心不老, 不会, 这点, 可以, 生活态度, 体现, 出来, 直接, 就是, 穿着...</td>\n",
       "      <td>时尚</td>\n",
       "    </tr>\n",
       "    <tr>\n",
       "      <th>2163</th>\n",
       "      <td>美国副总统耍大牌住在澳洲天天搭专机去巴新开会，网友评论亮了</td>\n",
       "      <td>[当地, 时间, 11, 16, 美国, 总统, 迈克, 彭斯, 抵达, 澳大利亚, 北部,...</td>\n",
       "      <td>国际</td>\n",
       "    </tr>\n",
       "    <tr>\n",
       "      <th>6036</th>\n",
       "      <td>高速跑120，突然提示限速60，要急刹车吗？交警只说了三个字</td>\n",
       "      <td>[现在, 高速, 上面, 最高, 时速, 120, 大家, 了解, 驾驶, 时候, 我们, ...</td>\n",
       "      <td>汽车</td>\n",
       "    </tr>\n",
       "    <tr>\n",
       "      <th>6921</th>\n",
       "      <td>中移动七省市试点阶梯套餐 流量用得越多越便宜</td>\n",
       "      <td>[资料, 中国移动, 展台, 中新网, 吴涛, 中新网, 客户端, 北京, 11, 19, ...</td>\n",
       "      <td>科技</td>\n",
       "    </tr>\n",
       "    <tr>\n",
       "      <th>6216</th>\n",
       "      <td>售25.88-33.08万元 长安马自达CX-8广州区域上市</td>\n",
       "      <td>[12, 长安, 马自达, 全新, CX, 广州, 区域, 正式, 上市, 新车, 推出, ...</td>\n",
       "      <td>汽车</td>\n",
       "    </tr>\n",
       "    <tr>\n",
       "      <th>537</th>\n",
       "      <td>冰壶世界杯日本女队逆转韩国夺冠 美国男队再胜瑞典</td>\n",
       "      <td>[腾讯, 体育讯, 北京, 时间, 12, 10, 2018, 冰壶, 世界杯, 美国, 奥...</td>\n",
       "      <td>体育</td>\n",
       "    </tr>\n",
       "    <tr>\n",
       "      <th>2897</th>\n",
       "      <td>英亲王成英史上首位成功种植珍贵黑松露的人，售价达5千美味稀有</td>\n",
       "      <td>[镜报, 12, 31, 报道, 英国, 菲利普, 亲王, 成为, 英国, 第一个, 成功,...</td>\n",
       "      <td>国际</td>\n",
       "    </tr>\n",
       "    <tr>\n",
       "      <th>7768</th>\n",
       "      <td>复星旅文香港上市首日破发 文旅＋地产模式遭质疑</td>\n",
       "      <td>[12, 14, 复星, 旅文, 01992, HK, 香港联交所, 正式, 挂牌, 但是,...</td>\n",
       "      <td>科技</td>\n",
       "    </tr>\n",
       "    <tr>\n",
       "      <th>2222</th>\n",
       "      <td>俄媒：明年起汉语将加入“俄罗斯高考”</td>\n",
       "      <td>[随着, 国家, 统一, 考试, 汉语, 科目, 成绩, 纳入, 入学考试, 高校, 越来越...</td>\n",
       "      <td>国际</td>\n",
       "    </tr>\n",
       "    <tr>\n",
       "      <th>2599</th>\n",
       "      <td>俄科学家死后大脑被冷冻保存，等待未来植入他人身体“复活”</td>\n",
       "      <td>[11, 下旬, 俄罗斯, 科学家, 尤里, 皮丘金, 室外, 突发, 心脏病, 昏倒, 惨...</td>\n",
       "      <td>国际</td>\n",
       "    </tr>\n",
       "    <tr>\n",
       "      <th>705</th>\n",
       "      <td>火箭5连胜一数据成关键 重返西部前八只靠投三分远远不够</td>\n",
       "      <td>[火箭, 主场, 136, 118, 大胜, 奇才, 之后, 收获, 一波, 连胜, 同时,...</td>\n",
       "      <td>体育</td>\n",
       "    </tr>\n",
       "    <tr>\n",
       "      <th>3468</th>\n",
       "      <td>林更新即将离开，肯尼跟他约定：我会乖的，侯佩岑感动到泪目</td>\n",
       "      <td>[全新, 亲子, 综艺节目, 带我去, 远方, 开播, 之后, 获得, 很多, 网友, 喜欢...</td>\n",
       "      <td>娱乐</td>\n",
       "    </tr>\n",
       "    <tr>\n",
       "      <th>6744</th>\n",
       "      <td>超级好用的ACC，12万块就能搞定</td>\n",
       "      <td>[HR, ACC, 然而, 喜欢, 原因, 简单, 距离, 判定, 文明, 就算, 最近, ...</td>\n",
       "      <td>汽车</td>\n",
       "    </tr>\n",
       "    <tr>\n",
       "      <th>5874</th>\n",
       "      <td>多款新车12月扎堆上市！这些兼顾颜值和空间的SUV，你心动吗</td>\n",
       "      <td>[这个, 周末, 我们, 踏入, 12, 月份, 知道, 对于, 各位, 车迷, 来讲, 2...</td>\n",
       "      <td>汽车</td>\n",
       "    </tr>\n",
       "    <tr>\n",
       "      <th>4373</th>\n",
       "      <td>短呢大衣才是秋冬百搭款，小个子女生也能穿，轻松凹出时髦感</td>\n",
       "      <td>[秋冬, 气温, 降低, 穿衣, 搭配, 跟着, 变得, 困难, 不少, 尤其, 对于, 那...</td>\n",
       "      <td>时尚</td>\n",
       "    </tr>\n",
       "    <tr>\n",
       "      <th>7891</th>\n",
       "      <td>2018年地图大战：AI化的百度地图，野心撑起的新纪元</td>\n",
       "      <td>[2018, 全球, 红利, 消退, 一年, 曾经, 火热, 各个, 互联网, 细分, 领域...</td>\n",
       "      <td>科技</td>\n",
       "    </tr>\n",
       "    <tr>\n",
       "      <th>9225</th>\n",
       "      <td>上月沪市日均成交1530亿 金融委会议关注资本市场</td>\n",
       "      <td>[京报, 记者, 宓迪, 央行, 今日, 公布, 2018, 11, 月份, 金融市场, 运...</td>\n",
       "      <td>财经</td>\n",
       "    </tr>\n",
       "    <tr>\n",
       "      <th>4859</th>\n",
       "      <td>同是新疆女孩古装扮相，佟丽娅实力碾压哈尼克孜美到窒息</td>\n",
       "      <td>[新疆, 女孩, 颜值, 一直, 以来, 公认, 相当, 迷人, 精致, 立体, 五官, 鼻...</td>\n",
       "      <td>时尚</td>\n",
       "    </tr>\n",
       "    <tr>\n",
       "      <th>3264</th>\n",
       "      <td>陈羽凡25岁女友素颜照曝光，两人谈恋爱都用暗号接头</td>\n",
       "      <td>[作为, 羽泉, 组合, 之一, 陈羽, 凡于, 28, 北京, XD, 被捕, 堪称, 2...</td>\n",
       "      <td>娱乐</td>\n",
       "    </tr>\n",
       "    <tr>\n",
       "      <th>2732</th>\n",
       "      <td>美国2岁男童濒临死亡，其也门母亲终获政府签证以见孩子最后一面</td>\n",
       "      <td>[CAIR, 报道, 莎玛会, 当地, 时间, 周三, 19, 抵达, 旧金山, 儿子, 生...</td>\n",
       "      <td>国际</td>\n",
       "    </tr>\n",
       "  </tbody>\n",
       "</table>\n",
       "<p>9549 rows × 3 columns</p>\n",
       "</div>"
      ],
      "text/plain": [
       "                               title  \\\n",
       "883    NBA年度热文出炉 过去的2018年希望你能记住这十篇文章   \n",
       "5462   李光洙公布恋情，女友李先彬竟撞脸宋慧乔张雨绮杨超越看懵网友   \n",
       "799       火箭近11战10胜震惊联盟 哈登之外还有两人功不可没   \n",
       "1826   邻邦扫描：伊朗有意购入“枭龙”战机 印度“不掺和”围堵中国   \n",
       "6495             车辆蓝牌之间的互换都有哪些条件的约束？   \n",
       "6512  洗车工6万收回一辆君威准备翻新，修理工：不想后悔就5万卖给我   \n",
       "8578         优信三季度营收大增，高盛预计其2020年可盈利   \n",
       "4534            get不到针织开衫的时尚感？那是你没穿对   \n",
       "2670         美国白宫宣布从叙利亚撤军 仍将继续对叙、伊施压   \n",
       "578   王霜独造3球大逆转 4个人防不住她 14场狂造10球征服欧洲   \n",
       "6879        父母多年从事传销 成都大三女生无奈选择向警方举报   \n",
       "4156   火箭少女一个比一个穿得厚实，徐梦洁腰上露半截秋衣真“邋遢”   \n",
       "7437       为什么Apple Store员工愿意接受较低薪酬？   \n",
       "994          阿根廷防长：若花费40亿美元打捞潜艇太不理智了   \n",
       "5275  关晓彤林心如同穿蓝色礼服，被林心如好气质征服，年龄真不是问题   \n",
       "565     33岁C罗还这么能射 但平均10脚才进1球 效率真是尴尬   \n",
       "598     梅西告诉你世界第5恐怖数据 把自己活成宇宙队 梅吹疯狂了   \n",
       "1166        简氏：卫星照片显示中国“神雕”无人机现身马兰基地   \n",
       "4655               7套大衣搭配真人示范，修身又显气质   \n",
       "2229     特朗普反击通用汽车关闭工厂 威胁对日本等外国汽车征关税   \n",
       "9361        许知远：中国崛起时，我们和世界的沟通语言只有消费   \n",
       "9127  中国央行“结构性降息”VS美联储“固执加息”，传递六大信号！   \n",
       "5253      看到蔡依林、戚薇、王菊、吴宣仪后，发现明年流行猫眼妆   \n",
       "5121       大衣怎么穿才有活力？搭舒适的运动鞋，焕发青春的气息   \n",
       "1741    想换飞机？先掏钱！美国估计6代战机价格将是F-35的3倍   \n",
       "3710        释小龙晒照与童年的自己超时空同框，网友激起回忆杀   \n",
       "8481                油价今晚再跌4毛2，跌幅再创新高   \n",
       "2111       卡舒吉究竟是谁杀的？特朗普：最近几天之内会得出结论   \n",
       "1373    见死不救！叙库尔德武装抱怨攻打IS大本营未获美军医疗援助   \n",
       "9138     今日头条要卖保险了 开价月薪20K-40K招产品负责人   \n",
       "...                              ...   \n",
       "659        哈里斯关键抛投助球队逆转 篮网客场险胜公牛迎七连胜   \n",
       "797    皇马状态不佳仍能横着走 轻取亚洲冠军 冲世俱杯纪录将超巴萨   \n",
       "755   辽篮单节失40分上次是1118天前 奇！一遇CBA这两队就懵   \n",
       "8291  币圈挖矿机萧条英伟达受牵连 股价大跌市值单日缩水230亿美元   \n",
       "2496  借DNA身份识别，因珍珠港遭袭牺牲的美国军人八十年后魂归故乡   \n",
       "7599  外媒：贾跃亭已抵押美国豪宅多次借贷，若法拉第倒闭他将无计可施   \n",
       "1871        国产C919大型客机103架机在浦东机场首飞成功   \n",
       "2046               一波三折 美国佛州州长选举尘埃落定   \n",
       "7877                 智能手机的2018：越过山丘？   \n",
       "4851                 长大衣里面套裙子，竟然这么好看   \n",
       "5072         同样是穿棉服 63岁的刘晓庆完胜21岁的关晓彤   \n",
       "2163   美国副总统耍大牌住在澳洲天天搭专机去巴新开会，网友评论亮了   \n",
       "6036  高速跑120，突然提示限速60，要急刹车吗？交警只说了三个字   \n",
       "6921          中移动七省市试点阶梯套餐 流量用得越多越便宜   \n",
       "6216  售25.88-33.08万元 长安马自达CX-8广州区域上市   \n",
       "537         冰壶世界杯日本女队逆转韩国夺冠 美国男队再胜瑞典   \n",
       "2897  英亲王成英史上首位成功种植珍贵黑松露的人，售价达5千美味稀有   \n",
       "7768         复星旅文香港上市首日破发 文旅＋地产模式遭质疑   \n",
       "2222              俄媒：明年起汉语将加入“俄罗斯高考”   \n",
       "2599    俄科学家死后大脑被冷冻保存，等待未来植入他人身体“复活”   \n",
       "705      火箭5连胜一数据成关键 重返西部前八只靠投三分远远不够   \n",
       "3468    林更新即将离开，肯尼跟他约定：我会乖的，侯佩岑感动到泪目   \n",
       "6744               超级好用的ACC，12万块就能搞定   \n",
       "5874  多款新车12月扎堆上市！这些兼顾颜值和空间的SUV，你心动吗   \n",
       "4373    短呢大衣才是秋冬百搭款，小个子女生也能穿，轻松凹出时髦感   \n",
       "7891     2018年地图大战：AI化的百度地图，野心撑起的新纪元   \n",
       "9225       上月沪市日均成交1530亿 金融委会议关注资本市场   \n",
       "4859      同是新疆女孩古装扮相，佟丽娅实力碾压哈尼克孜美到窒息   \n",
       "3264       陈羽凡25岁女友素颜照曝光，两人谈恋爱都用暗号接头   \n",
       "2732  美国2岁男童濒临死亡，其也门母亲终获政府签证以见孩子最后一面   \n",
       "\n",
       "                                                content label  \n",
       "883   [我们, 文章, 记录, 时光, 如果说, 一年, 365, 天是, 本书, 那些, 文字,...    体育  \n",
       "5462  [2018, 最后, 一天, 李光洙, 李先彬, 恋情, 公开, 可以, 今年, 娱乐圈, ...    时尚  \n",
       "799   [今天, 北京, 时间, 2019, 因为, 时差, 关系, 今天, 火箭, 主场, 比赛,...    体育  \n",
       "1826  [2018, 11, 南亚, 军情, 热点, 频现, 印度, 俄罗斯, 达成, 多项, 巨额...    军事  \n",
       "6495  [我们, 知道, 深圳, 比亚迪, 车辆, 销量, 一直, 突出, 不管, 新能源, 汽车,...    汽车  \n",
       "6512  [家住, 河北, 唐山, 一名, 车工, 海奇, 化名, 由于, 洗车, 打工, 经常, 一...    汽车  \n",
       "8578  [二手车, 电商, 平台, 优信, 日前, 发布, 2018, 第三季度, 财报, 显示, ...    财经  \n",
       "4534  [虽然, 已经, 立冬, 但是, 针织, 开衫, 永远, 不会, 过时, 单品, 20, 大...    时尚  \n",
       "2670  [俄罗斯, 卫星, 通讯社, 消息, 当地, 时间, 周三, 19, 美国白宫, 发言人, ...    国际  \n",
       "578   [王霜, 一次, 率队, 逆转, 制造, 帮助, 巴黎, 圣日耳曼, 女足, 稳法, 甲第,...    体育  \n",
       "6879  [10, 27, 一名, 传销, 组织, 女士, 记者, 展示, 传销, 组织, 交钱, 签...    科技  \n",
       "4156  [近日, 火箭, 少女, 101, 现身, 机场, 正值, 冬日, 我们, 看看, 几名, ...    时尚  \n",
       "7437  [如果, 曾经, 光顾, 苹果, Apple, Store, 零售店, 并且, 得到, 员工...    科技  \n",
       "994   [俄罗斯, 塔斯社, 11, 19, 报道, 阿根廷, 国防部长, 奥斯卡, 阿瓜德, 周日...    军事  \n",
       "5275  [前段时间, 华表奖, 可以, 群星, 云集, 抢眼, 作为, 童星, 出身, 关晓彤, 国...    时尚  \n",
       "565   [经历, 尴尬, 一夜, 虽然, 尤文, 再次, 赢球, 这次, 罗有, 一项, 纪录, 再...    体育  \n",
       "598   [梅西, 打进, 19, 任意球, 这一, 数据, 不仅, 五大, 联赛, 无人, 更是, ...    体育  \n",
       "1166  [观察者, 开源, 英国, 简氏, 防务, 周刊, 11, 14, 报道, 美国, 数字地球...    军事  \n",
       "4655  [今天, 分享, 之前, 一个, 灵魂, 拷问, 假如, 明天, 一个, 重要, 约会, 天...    时尚  \n",
       "2229  [11, 28, 美国, 总统, 特朗普, 表示, 白宫, 正在, 研究, 是否, 应该, ...    国际  \n",
       "9361  [演讲, 许知, 微信, 公众, 吴晓波, 频道, 刚才, 主持人, 回答, 哪儿, 哪儿,...    财经  \n",
       "9127  [ID, wallstreetcn, 文中, 观点, 构成, 投资, 建议, 2018, 1...    财经  \n",
       "5253  [除了, 爱看, 艺人, 走红, 什么, 服装, 小编, 关注, 就是, 妆容, 一不小心,...    时尚  \n",
       "5121  [天气, 渐冷, 越来越, 仙女, 大衣, 那么, 压抑, 冬天, 如何, 自己, 可以, ...    时尚  \n",
       "1741  [美国空军, 提出, 2030, 空军, 发展, 构想, 具有, 穿透, 制空, 能力, 隐...    军事  \n",
       "3710  [12, 19, 功夫, 影星, 释小龙, 微博上, 一张, 合照, 引起, 网友, 热烈,...    娱乐  \n",
       "8481  [今晚, 24, 本市, 汽柴油, 价格, 迎来, 下调, 中宇, 资讯, 测算, 原油, ...    财经  \n",
       "2111  [环球网, 综合, 报道, 法新社, 18, 报道, 美国, 总统, 特朗普, 周六, 17...    国际  \n",
       "1373  [资料, 叙利亚, 库尔德, 武装, 展示, 150, 组成, 车队, 英国, 太阳报, 网...    军事  \n",
       "9138  [近期, 今日, 头条, 进军, 保险行业, 传闻, 坐实, 根据, 国家, 企业, 信息,...    财经  \n",
       "...                                                 ...   ...  \n",
       "659   [腾讯, 体育, 12, 20, 日讯, 篮网, 客场, 对阵, 公牛, 最终, 篮网, 9...    体育  \n",
       "797   [腾讯, 体育, 12, 20, 日讯, 开局, 慢热, 皇马, 依然, 连入, 淘汰, 亚...    体育  \n",
       "755   [124, 113, 辽宁, 主场, 击败, 青岛, 取得, 10, 连胜, 虽然, 最终,...    体育  \n",
       "8291  [11, 16, 日英, 伟达, 发布, 2019, 第三季度, 财报, 业绩, 不及, 预...    财经  \n",
       "2496  [12, 著名, 袭击, 珍珠港事件, 77, 周年, 美国, 海军基地, 珍珠港, 二战,...    国际  \n",
       "7599  [近日, 外媒, 报道, 贾跃亭, 多年, 一直, 制造, 债务, 炸弹, 直到现在, 我们...    科技  \n",
       "1871  [C919, 第三架, 原型机, 首飞, 成功, 摄影, 斯文, 威猛, 网友, 最新, 公...    军事  \n",
       "2046  [陈立, 美国, 佛罗里达州, 州长, 选举, 迟迟, 难以, 发布, 最终, 结果, 17...    国际  \n",
       "7877  [图片, 来源, 视觉, 中国, itlaoyou, com2018, 冬天, 格外, 资金...    科技  \n",
       "4851  [大街, 随处可见, 大衣, 羽绒服, 裤子, 套路, 越来越, 天气, 如何, 才能, 人...    时尚  \n",
       "5072  [有句, 心不老, 不会, 这点, 可以, 生活态度, 体现, 出来, 直接, 就是, 穿着...    时尚  \n",
       "2163  [当地, 时间, 11, 16, 美国, 总统, 迈克, 彭斯, 抵达, 澳大利亚, 北部,...    国际  \n",
       "6036  [现在, 高速, 上面, 最高, 时速, 120, 大家, 了解, 驾驶, 时候, 我们, ...    汽车  \n",
       "6921  [资料, 中国移动, 展台, 中新网, 吴涛, 中新网, 客户端, 北京, 11, 19, ...    科技  \n",
       "6216  [12, 长安, 马自达, 全新, CX, 广州, 区域, 正式, 上市, 新车, 推出, ...    汽车  \n",
       "537   [腾讯, 体育讯, 北京, 时间, 12, 10, 2018, 冰壶, 世界杯, 美国, 奥...    体育  \n",
       "2897  [镜报, 12, 31, 报道, 英国, 菲利普, 亲王, 成为, 英国, 第一个, 成功,...    国际  \n",
       "7768  [12, 14, 复星, 旅文, 01992, HK, 香港联交所, 正式, 挂牌, 但是,...    科技  \n",
       "2222  [随着, 国家, 统一, 考试, 汉语, 科目, 成绩, 纳入, 入学考试, 高校, 越来越...    国际  \n",
       "2599  [11, 下旬, 俄罗斯, 科学家, 尤里, 皮丘金, 室外, 突发, 心脏病, 昏倒, 惨...    国际  \n",
       "705   [火箭, 主场, 136, 118, 大胜, 奇才, 之后, 收获, 一波, 连胜, 同时,...    体育  \n",
       "3468  [全新, 亲子, 综艺节目, 带我去, 远方, 开播, 之后, 获得, 很多, 网友, 喜欢...    娱乐  \n",
       "6744  [HR, ACC, 然而, 喜欢, 原因, 简单, 距离, 判定, 文明, 就算, 最近, ...    汽车  \n",
       "5874  [这个, 周末, 我们, 踏入, 12, 月份, 知道, 对于, 各位, 车迷, 来讲, 2...    汽车  \n",
       "4373  [秋冬, 气温, 降低, 穿衣, 搭配, 跟着, 变得, 困难, 不少, 尤其, 对于, 那...    时尚  \n",
       "7891  [2018, 全球, 红利, 消退, 一年, 曾经, 火热, 各个, 互联网, 细分, 领域...    科技  \n",
       "9225  [京报, 记者, 宓迪, 央行, 今日, 公布, 2018, 11, 月份, 金融市场, 运...    财经  \n",
       "4859  [新疆, 女孩, 颜值, 一直, 以来, 公认, 相当, 迷人, 精致, 立体, 五官, 鼻...    时尚  \n",
       "3264  [作为, 羽泉, 组合, 之一, 陈羽, 凡于, 28, 北京, XD, 被捕, 堪称, 2...    娱乐  \n",
       "2732  [CAIR, 报道, 莎玛会, 当地, 时间, 周三, 19, 抵达, 旧金山, 儿子, 生...    国际  \n",
       "\n",
       "[9549 rows x 3 columns]"
      ]
     },
     "execution_count": 5,
     "metadata": {},
     "output_type": "execute_result"
    }
   ],
   "source": [
    "df_news"
   ]
  },
  {
   "cell_type": "markdown",
   "metadata": {},
   "source": [
    "### 去停用词"
   ]
  },
  {
   "cell_type": "code",
   "execution_count": 63,
   "metadata": {},
   "outputs": [],
   "source": [
    "with open('../../data/stopwords.txt') as f:\n",
    "    stopwords = []\n",
    "    for line in f:\n",
    "        stopwords.append(line.strip('\\n'))"
   ]
  },
  {
   "cell_type": "code",
   "execution_count": 64,
   "metadata": {},
   "outputs": [],
   "source": [
    "df_news['content'] = df_news['content'].apply(lambda x:' '.join([word for word in x if word not in stopwords]))"
   ]
  },
  {
   "cell_type": "code",
   "execution_count": 3,
   "metadata": {
    "ExecuteTime": {
     "end_time": "2019-04-18T15:27:13.471986Z",
     "start_time": "2019-04-18T15:27:12.784718Z"
    }
   },
   "outputs": [],
   "source": [
    "df_news = pd.read_excel('../../data/分词并去停用词的新闻数据.xlsx')"
   ]
  },
  {
   "cell_type": "markdown",
   "metadata": {},
   "source": [
    "### 切分数据集"
   ]
  },
  {
   "cell_type": "code",
   "execution_count": 4,
   "metadata": {
    "ExecuteTime": {
     "end_time": "2019-04-18T15:27:15.473440Z",
     "start_time": "2019-04-18T15:27:15.470696Z"
    }
   },
   "outputs": [],
   "source": [
    "X = df_news['content']\n",
    "y = df_news['label']"
   ]
  },
  {
   "cell_type": "code",
   "execution_count": 5,
   "metadata": {
    "ExecuteTime": {
     "end_time": "2019-04-18T15:27:16.785620Z",
     "start_time": "2019-04-18T15:27:16.206696Z"
    }
   },
   "outputs": [],
   "source": [
    "# 切分为训练集和测试集\n",
    "from sklearn.model_selection import train_test_split\n",
    "X_train, X_test, y_train, y_test = train_test_split(X, y, test_size=0.2, random_state=0)"
   ]
  },
  {
   "cell_type": "markdown",
   "metadata": {},
   "source": [
    "### CountVectorizer词频向量"
   ]
  },
  {
   "cell_type": "code",
   "execution_count": 6,
   "metadata": {
    "ExecuteTime": {
     "end_time": "2019-04-18T15:27:23.531583Z",
     "start_time": "2019-04-18T15:27:18.814768Z"
    }
   },
   "outputs": [],
   "source": [
    "from sklearn.feature_extraction.text import CountVectorizer\n",
    "vect = CountVectorizer(analyzer='word', max_features=30000, lowercase=False).fit(X_train)\n",
    "X_train_vectorized = vect.transform(X_train)\n",
    "X_test_vectorized = vect.transform(X_test)"
   ]
  },
  {
   "cell_type": "code",
   "execution_count": 7,
   "metadata": {
    "ExecuteTime": {
     "end_time": "2019-04-18T15:27:24.383140Z",
     "start_time": "2019-04-18T15:27:24.373523Z"
    }
   },
   "outputs": [
    {
     "data": {
      "text/plain": [
       "(7639, 30000)"
      ]
     },
     "execution_count": 7,
     "metadata": {},
     "output_type": "execute_result"
    }
   ],
   "source": [
    "X_train_vectorized.shape"
   ]
  },
  {
   "cell_type": "code",
   "execution_count": 8,
   "metadata": {
    "ExecuteTime": {
     "end_time": "2019-04-18T15:27:25.146590Z",
     "start_time": "2019-04-18T15:27:25.142708Z"
    }
   },
   "outputs": [
    {
     "data": {
      "text/plain": [
       "(1910, 30000)"
      ]
     },
     "execution_count": 8,
     "metadata": {},
     "output_type": "execute_result"
    }
   ],
   "source": [
    "X_test_vectorized.shape"
   ]
  },
  {
   "cell_type": "markdown",
   "metadata": {},
   "source": [
    "#### 朴素贝叶斯模型"
   ]
  },
  {
   "cell_type": "code",
   "execution_count": 9,
   "metadata": {
    "ExecuteTime": {
     "end_time": "2019-04-18T15:27:26.979555Z",
     "start_time": "2019-04-18T15:27:26.917205Z"
    }
   },
   "outputs": [
    {
     "data": {
      "text/plain": [
       "MultinomialNB(alpha=0.04, class_prior=None, fit_prior=True)"
      ]
     },
     "execution_count": 9,
     "metadata": {},
     "output_type": "execute_result"
    }
   ],
   "source": [
    "from sklearn.naive_bayes import MultinomialNB\n",
    "from sklearn.metrics import classification_report\n",
    "clfrNB = MultinomialNB(alpha=0.04)\n",
    "clfrNB.fit(X_train_vectorized, y_train)"
   ]
  },
  {
   "cell_type": "code",
   "execution_count": 10,
   "metadata": {
    "ExecuteTime": {
     "end_time": "2019-04-18T15:27:28.015180Z",
     "start_time": "2019-04-18T15:27:27.981011Z"
    }
   },
   "outputs": [
    {
     "name": "stdout",
     "output_type": "stream",
     "text": [
      "train accuracy: 0.9058777326875246\n",
      "test accuracy: 0.8392670157068063\n"
     ]
    }
   ],
   "source": [
    "print(\"train accuracy:\", clfrNB.score(X_train_vectorized, y_train))\n",
    "print(\"test accuracy:\", clfrNB.score(X_test_vectorized, y_test))"
   ]
  },
  {
   "cell_type": "code",
   "execution_count": 11,
   "metadata": {
    "ExecuteTime": {
     "end_time": "2019-04-18T15:27:29.246231Z",
     "start_time": "2019-04-18T15:27:29.236880Z"
    }
   },
   "outputs": [
    {
     "data": {
      "text/plain": [
       "array(['财经', '军事', '国际', ..., '时尚', '体育', '财经'], dtype='<U2')"
      ]
     },
     "execution_count": 11,
     "metadata": {},
     "output_type": "execute_result"
    }
   ],
   "source": [
    "bayes_predict = clfrNB.predict(X_test_vectorized)\n",
    "bayes_predict"
   ]
  },
  {
   "cell_type": "code",
   "execution_count": 12,
   "metadata": {
    "ExecuteTime": {
     "end_time": "2019-04-18T15:27:30.329441Z",
     "start_time": "2019-04-18T15:27:30.309068Z"
    },
    "hide_input": false
   },
   "outputs": [
    {
     "name": "stdout",
     "output_type": "stream",
     "text": [
      "              precision    recall  f1-score   support\n",
      "\n",
      "          体育       0.99      0.99      0.99       209\n",
      "          军事       0.78      0.80      0.79       199\n",
      "          国际       0.77      0.73      0.75       218\n",
      "          娱乐       0.84      0.92      0.87       189\n",
      "          时尚       0.93      0.90      0.92       314\n",
      "          汽车       0.98      0.94      0.96       252\n",
      "          科技       0.72      0.69      0.71       260\n",
      "          财经       0.71      0.77      0.74       269\n",
      "\n",
      "   micro avg       0.84      0.84      0.84      1910\n",
      "   macro avg       0.84      0.84      0.84      1910\n",
      "weighted avg       0.84      0.84      0.84      1910\n",
      "\n"
     ]
    }
   ],
   "source": [
    "print(classification_report(y_test, bayes_predict))"
   ]
  },
  {
   "cell_type": "markdown",
   "metadata": {},
   "source": [
    "#### 逻辑回归模型"
   ]
  },
  {
   "cell_type": "code",
   "execution_count": 13,
   "metadata": {
    "ExecuteTime": {
     "end_time": "2019-04-18T15:27:35.475081Z",
     "start_time": "2019-04-18T15:27:32.293087Z"
    }
   },
   "outputs": [
    {
     "data": {
      "text/plain": [
       "LogisticRegression(C=0.002, class_weight=None, dual=False, fit_intercept=True,\n",
       "          intercept_scaling=1, max_iter=100, multi_class='warn',\n",
       "          n_jobs=None, penalty='l2', random_state=None, solver='warn',\n",
       "          tol=0.0001, verbose=0, warm_start=False)"
      ]
     },
     "execution_count": 13,
     "metadata": {},
     "output_type": "execute_result"
    }
   ],
   "source": [
    "from sklearn.linear_model import LogisticRegression\n",
    "logis = LogisticRegression(C=0.002)\n",
    "logis.fit(X_train_vectorized, y_train)"
   ]
  },
  {
   "cell_type": "code",
   "execution_count": 14,
   "metadata": {
    "ExecuteTime": {
     "end_time": "2019-04-18T15:27:36.992477Z",
     "start_time": "2019-04-18T15:27:36.960923Z"
    }
   },
   "outputs": [
    {
     "name": "stdout",
     "output_type": "stream",
     "text": [
      "0.9100667626652703\n",
      "0.8230366492146597\n"
     ]
    }
   ],
   "source": [
    "print(logis.score(X_train_vectorized, y_train))\n",
    "print(logis.score(X_test_vectorized, y_test))"
   ]
  },
  {
   "cell_type": "code",
   "execution_count": 15,
   "metadata": {
    "ExecuteTime": {
     "end_time": "2019-04-18T15:27:39.613767Z",
     "start_time": "2019-04-18T15:27:39.137612Z"
    }
   },
   "outputs": [
    {
     "data": {
      "text/plain": [
       "array(['财经', '军事', '娱乐', ..., '时尚', '体育', '财经'], dtype=object)"
      ]
     },
     "execution_count": 15,
     "metadata": {},
     "output_type": "execute_result"
    }
   ],
   "source": [
    "lg_predict = logis.predict(vect.transform(X_test))\n",
    "lg_predict"
   ]
  },
  {
   "cell_type": "code",
   "execution_count": 16,
   "metadata": {
    "ExecuteTime": {
     "end_time": "2019-04-18T15:27:53.039509Z",
     "start_time": "2019-04-18T15:27:53.006713Z"
    }
   },
   "outputs": [
    {
     "name": "stdout",
     "output_type": "stream",
     "text": [
      "              precision    recall  f1-score   support\n",
      "\n",
      "          体育       0.99      0.97      0.98       209\n",
      "          军事       0.77      0.75      0.76       199\n",
      "          国际       0.75      0.71      0.73       218\n",
      "          娱乐       0.82      0.87      0.84       189\n",
      "          时尚       0.93      0.91      0.92       314\n",
      "          汽车       0.95      0.94      0.95       252\n",
      "          科技       0.69      0.68      0.68       260\n",
      "          财经       0.69      0.74      0.72       269\n",
      "\n",
      "   micro avg       0.82      0.82      0.82      1910\n",
      "   macro avg       0.82      0.82      0.82      1910\n",
      "weighted avg       0.82      0.82      0.82      1910\n",
      "\n"
     ]
    }
   ],
   "source": [
    "print(classification_report(y_test, lg_predict))"
   ]
  },
  {
   "cell_type": "markdown",
   "metadata": {},
   "source": [
    "#### svm模型"
   ]
  },
  {
   "cell_type": "code",
   "execution_count": 31,
   "metadata": {},
   "outputs": [
    {
     "data": {
      "text/plain": [
       "SVC(C=30, cache_size=200, class_weight=None, coef0=0.0,\n",
       "  decision_function_shape='ovr', degree=3, gamma='auto_deprecated',\n",
       "  kernel='rbf', max_iter=-1, probability=False, random_state=None,\n",
       "  shrinking=True, tol=0.001, verbose=False)"
      ]
     },
     "execution_count": 31,
     "metadata": {},
     "output_type": "execute_result"
    }
   ],
   "source": [
    "from sklearn.svm import SVC\n",
    "svm = SVC(C=30)\n",
    "svm.fit(X_train_vectorized, y_train)"
   ]
  },
  {
   "cell_type": "code",
   "execution_count": 32,
   "metadata": {},
   "outputs": [
    {
     "name": "stdout",
     "output_type": "stream",
     "text": [
      "0.9382118078282498\n",
      "0.8157068062827225\n"
     ]
    }
   ],
   "source": [
    "print(svm.score(X_train_vectorized, y_train))\n",
    "print(svm.score(X_test_vectorized, y_test))"
   ]
  },
  {
   "cell_type": "code",
   "execution_count": 33,
   "metadata": {},
   "outputs": [
    {
     "data": {
      "text/plain": [
       "array(['财经', '科技', '国际', ..., '时尚', '体育', '财经'], dtype=object)"
      ]
     },
     "execution_count": 33,
     "metadata": {},
     "output_type": "execute_result"
    }
   ],
   "source": [
    "svm_predict = svm.predict(X_test_vectorized)\n",
    "svm_predict"
   ]
  },
  {
   "cell_type": "code",
   "execution_count": 34,
   "metadata": {
    "hide_input": true
   },
   "outputs": [
    {
     "name": "stdout",
     "output_type": "stream",
     "text": [
      "              precision    recall  f1-score   support\n",
      "\n",
      "          体育       0.96      0.97      0.96       209\n",
      "          军事       0.75      0.73      0.74       199\n",
      "          国际       0.69      0.75      0.72       218\n",
      "          娱乐       0.84      0.87      0.85       189\n",
      "          时尚       0.94      0.89      0.92       314\n",
      "          汽车       0.96      0.94      0.95       252\n",
      "          科技       0.70      0.65      0.67       260\n",
      "          财经       0.70      0.73      0.71       269\n",
      "\n",
      "   micro avg       0.82      0.82      0.82      1910\n",
      "   macro avg       0.82      0.82      0.82      1910\n",
      "weighted avg       0.82      0.82      0.82      1910\n",
      "\n"
     ]
    }
   ],
   "source": [
    "print(classification_report(y_test, svm_predict))"
   ]
  },
  {
   "cell_type": "markdown",
   "metadata": {},
   "source": [
    "### 混淆矩阵"
   ]
  },
  {
   "cell_type": "code",
   "execution_count": 40,
   "metadata": {
    "hide_input": false
   },
   "outputs": [],
   "source": [
    "import matplotlib.pyplot as plt\n",
    "from sklearn.metrics import confusion_matrix\n",
    "import itertools\n",
    "plt.rcParams['font.family'] = ['Arial Unicode MS'] #正常显示中文\n",
    "\n",
    "def plot_confusion_matrix(cm, classes,\n",
    "                          normalize=False,\n",
    "                          title='Confusion matrix',\n",
    "                          cmap=plt.cm.winter):\n",
    "    if normalize:\n",
    "        cm = cm.astype('float') / cm.sum(axis=1)[:, np.newaxis]\n",
    "    plt.imshow(cm, interpolation='nearest', cmap=cmap)\n",
    "    plt.title(title, fontsize=30)\n",
    "    plt.colorbar()\n",
    "    tick_marks = np.arange(len(classes))\n",
    "    plt.xticks(tick_marks, classes, fontsize=20)\n",
    "    plt.yticks(tick_marks, classes, fontsize=20)\n",
    "    \n",
    "    fmt = '.2f' if normalize else 'd'\n",
    "    thresh = cm.max() / 2.\n",
    "\n",
    "    for i, j in itertools.product(range(cm.shape[0]), range(cm.shape[1])):\n",
    "        plt.text(j, i, format(cm[i, j], fmt), horizontalalignment=\"center\", \n",
    "                 color=\"white\" if cm[i, j] < thresh else \"black\", fontsize=40)\n",
    "    \n",
    "    plt.tight_layout()\n",
    "    plt.ylabel('True label', fontsize=30)\n",
    "    plt.xlabel('Predicted label', fontsize=30)\n",
    "\n",
    "    return plt"
   ]
  },
  {
   "cell_type": "code",
   "execution_count": 49,
   "metadata": {
    "hide_input": true
   },
   "outputs": [
    {
     "data": {
      "image/png": "[encoded data removed]",
      "text/plain": [
       "<Figure size 720x720 with 2 Axes>"
      ]
     },
     "metadata": {},
     "output_type": "display_data"
    }
   ],
   "source": [
    "cm = confusion_matrix(y_test, svm_predict)\n",
    "fig = plt.figure(figsize=(10, 10))\n",
    "plot = plot_confusion_matrix(cm, classes=['体育','军事','国际','娱乐','时尚','汽车','科技','财经'], normalize=False, title='Confusion matrix of svm')\n",
    "plt.show()\n"
   ]
  },
  {
   "cell_type": "code",
   "execution_count": 76,
   "metadata": {},
   "outputs": [],
   "source": [
    "# 将分词好并去了停用词的数据保存，便于后续模型优化\n",
    "df_news.to_excel('../../data/分词并去停用词的新闻数据.xlsx', index=False, encoding='utf-8')"
   ]
  }
 ],
 "metadata": {
  "gist": {
   "data": {
    "description": "Desktop/新闻文本分类/news-classification/代码/机器学习模型训练/baseline_model.ipynb",
    "public": false
   },
   "id": ""
  },
  "hide_input": false,
  "kernelspec": {
   "display_name": "Python 3",
   "language": "python",
   "name": "python3"
  },
  "language_info": {
   "codemirror_mode": {
    "name": "ipython",
    "version": 3
   },
   "file_extension": ".py",
   "mimetype": "text/x-python",
   "name": "python",
   "nbconvert_exporter": "python",
   "pygments_lexer": "ipython3",
   "version": "3.6.5"
  },
  "toc": {
   "base_numbering": 1,
   "nav_menu": {},
   "number_sections": true,
   "sideBar": true,
   "skip_h1_title": false,
   "title_cell": "Table of Contents",
   "title_sidebar": "Contents",
   "toc_cell": false,
   "toc_position": {
    "height": "calc(100% - 180px)",
    "left": "10px",
    "top": "150px",
    "width": "288px"
   },
   "toc_section_display": true,
   "toc_window_display": true
  },
  "varInspector": {
   "cols": {
    "lenName": 16,
    "lenType": 16,
    "lenVar": 40
   },
   "kernels_config": {
    "python": {
     "delete_cmd_postfix": "",
     "delete_cmd_prefix": "del ",
     "library": "var_list.py",
     "varRefreshCmd": "print(var_dic_list())"
    },
    "r": {
     "delete_cmd_postfix": ") ",
     "delete_cmd_prefix": "rm(",
     "library": "var_list.r",
     "varRefreshCmd": "cat(var_dic_list()) "
    }
   },
   "types_to_exclude": [
    "module",
    "function",
    "builtin_function_or_method",
    "instance",
    "_Feature"
   ],
   "window_display": false
  }
 },
 "nbformat": 4,
 "nbformat_minor": 2
}
