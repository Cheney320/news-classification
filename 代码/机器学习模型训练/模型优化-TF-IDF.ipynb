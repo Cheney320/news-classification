{
 "cells": [
  {
   "cell_type": "code",
   "execution_count": 1,
   "metadata": {
    "ExecuteTime": {
     "end_time": "2019-04-19T11:12:28.164218Z",
     "start_time": "2019-04-19T11:12:27.758782Z"
    }
   },
   "outputs": [],
   "source": [
    "import numpy as np\n",
    "import pandas as pd"
   ]
  },
  {
   "cell_type": "code",
   "execution_count": 2,
   "metadata": {
    "ExecuteTime": {
     "end_time": "2019-04-19T11:12:29.758392Z",
     "start_time": "2019-04-19T11:12:28.828035Z"
    }
   },
   "outputs": [],
   "source": [
    "df_news = pd.read_excel('../../data/分词并去停用词的新闻数据.xlsx')"
   ]
  },
  {
   "cell_type": "code",
   "execution_count": 3,
   "metadata": {
    "ExecuteTime": {
     "end_time": "2019-04-19T11:12:30.552736Z",
     "start_time": "2019-04-19T11:12:30.527252Z"
    }
   },
   "outputs": [
    {
     "data": {
      "text/html": [
       "<div>\n",
       "<style scoped>\n",
       "    .dataframe tbody tr th:only-of-type {\n",
       "        vertical-align: middle;\n",
       "    }\n",
       "\n",
       "    .dataframe tbody tr th {\n",
       "        vertical-align: top;\n",
       "    }\n",
       "\n",
       "    .dataframe thead th {\n",
       "        text-align: right;\n",
       "    }\n",
       "</style>\n",
       "<table border=\"1\" class=\"dataframe\">\n",
       "  <thead>\n",
       "    <tr style=\"text-align: right;\">\n",
       "      <th></th>\n",
       "      <th>title</th>\n",
       "      <th>content</th>\n",
       "      <th>label</th>\n",
       "    </tr>\n",
       "  </thead>\n",
       "  <tbody>\n",
       "    <tr>\n",
       "      <th>0</th>\n",
       "      <td>NBA年度热文出炉 过去的2018年希望你能记住这十篇文章</td>\n",
       "      <td>文章 记录 时光 如果说 一年 365 天是 本书 文字 标注 记忆 书签 鞭辟入里 分析 ...</td>\n",
       "      <td>体育</td>\n",
       "    </tr>\n",
       "    <tr>\n",
       "      <th>1</th>\n",
       "      <td>李光洙公布恋情，女友李先彬竟撞脸宋慧乔张雨绮杨超越看懵网友</td>\n",
       "      <td>2018 李光洙 李先彬 恋情 公开 娱乐圈 一弹 粉红 炮弹 光洙 欧巴 2018 顺利 ...</td>\n",
       "      <td>时尚</td>\n",
       "    </tr>\n",
       "    <tr>\n",
       "      <th>2</th>\n",
       "      <td>火箭近11战10胜震惊联盟 哈登之外还有两人功不可没</td>\n",
       "      <td>北京 2019 时差 关系 火箭 主场 比赛 2018 收官 之战 一场 大胜 詹姆斯 哈登...</td>\n",
       "      <td>体育</td>\n",
       "    </tr>\n",
       "    <tr>\n",
       "      <th>3</th>\n",
       "      <td>邻邦扫描：伊朗有意购入“枭龙”战机 印度“不掺和”围堵中国</td>\n",
       "      <td>2018 南亚 军情 热点 频现 印度 俄罗斯 达成 多项 巨额 军售 订单 伊朗 有意 巴...</td>\n",
       "      <td>军事</td>\n",
       "    </tr>\n",
       "    <tr>\n",
       "      <th>4</th>\n",
       "      <td>车辆蓝牌之间的互换都有哪些条件的约束？</td>\n",
       "      <td>深圳 比亚迪 车辆 销量 新能源 汽车 燃油 汽车 比亚迪 比亚迪 消费者 青睐 消费者 在...</td>\n",
       "      <td>汽车</td>\n",
       "    </tr>\n",
       "    <tr>\n",
       "      <th>5</th>\n",
       "      <td>洗车工6万收回一辆君威准备翻新，修理工：不想后悔就5万卖给我</td>\n",
       "      <td>家住 河北 唐山 一名 车工 海奇 化名 洗车 打工 二手车 修理厂 工人 打交道 原因 利...</td>\n",
       "      <td>汽车</td>\n",
       "    </tr>\n",
       "    <tr>\n",
       "      <th>6</th>\n",
       "      <td>优信三季度营收大增，高盛预计其2020年可盈利</td>\n",
       "      <td>二手车 电商 平台 优信 日前 发布 2018 第三季度 财报 显示 报告 期内 优信 2C...</td>\n",
       "      <td>财经</td>\n",
       "    </tr>\n",
       "    <tr>\n",
       "      <th>7</th>\n",
       "      <td>get不到针织开衫的时尚感？那是你没穿对</td>\n",
       "      <td>立冬 针织 开衫 永远 过时 单品 大法 收藏 开春 不用 搭配 发愁 针织 开衫 同色 套...</td>\n",
       "      <td>时尚</td>\n",
       "    </tr>\n",
       "    <tr>\n",
       "      <th>8</th>\n",
       "      <td>美国白宫宣布从叙利亚撤军 仍将继续对叙、伊施压</td>\n",
       "      <td>俄罗斯 卫星 通讯社 周三 美国白宫 发言人 桑德斯 美国 叙利亚 撤军 美军 部队 撤离 ...</td>\n",
       "      <td>国际</td>\n",
       "    </tr>\n",
       "    <tr>\n",
       "      <th>9</th>\n",
       "      <td>王霜独造3球大逆转 4个人防不住她 14场狂造10球征服欧洲</td>\n",
       "      <td>王霜 率队 逆转 制造 巴黎 圣日耳曼 女足 稳法 甲第 距离 第一 里昂 差距 王霜 各项...</td>\n",
       "      <td>体育</td>\n",
       "    </tr>\n",
       "    <tr>\n",
       "      <th>10</th>\n",
       "      <td>父母多年从事传销 成都大三女生无奈选择向警方举报</td>\n",
       "      <td>一名 传销 组织 女士 展示 传销 组织 交钱 签订 中国 分享 经济 经销商 申购 照片 ...</td>\n",
       "      <td>科技</td>\n",
       "    </tr>\n",
       "    <tr>\n",
       "      <th>11</th>\n",
       "      <td>火箭少女一个比一个穿得厚实，徐梦洁腰上露半截秋衣真“邋遢”</td>\n",
       "      <td>火箭 少女 101 现身 机场 冬日 几名 少女 寒冷 天气 搭配 傅菁 身着 长款 黑色 ...</td>\n",
       "      <td>时尚</td>\n",
       "    </tr>\n",
       "    <tr>\n",
       "      <th>12</th>\n",
       "      <td>为什么Apple Store员工愿意接受较低薪酬？</td>\n",
       "      <td>光顾 苹果 Apple Store 零售店 员工 苹果 高薪 方式 留住 人才 并非如此 英...</td>\n",
       "      <td>科技</td>\n",
       "    </tr>\n",
       "    <tr>\n",
       "      <th>13</th>\n",
       "      <td>阿根廷防长：若花费40亿美元打捞潜艇太不理智了</td>\n",
       "      <td>俄罗斯 塔斯社 阿根廷 国防部长 奥斯卡 阿瓜德 周日 拨款 亿美元 海底 打捞 一年 失踪...</td>\n",
       "      <td>军事</td>\n",
       "    </tr>\n",
       "    <tr>\n",
       "      <th>14</th>\n",
       "      <td>关晓彤林心如同穿蓝色礼服，被林心如好气质征服，年龄真不是问题</td>\n",
       "      <td>前段时间 华表奖 群星 云集 抢眼 童星 出身 关晓彤 国民 闺女 形象 深入人心 一仆二主...</td>\n",
       "      <td>时尚</td>\n",
       "    </tr>\n",
       "    <tr>\n",
       "      <th>15</th>\n",
       "      <td>33岁C罗还这么能射 但平均10脚才进1球 效率真是尴尬</td>\n",
       "      <td>经历 尴尬 一夜 尤文 赢球 罗有 一项 纪录 刷新 纪录 光彩 全场 比赛 结束 意甲 射...</td>\n",
       "      <td>体育</td>\n",
       "    </tr>\n",
       "    <tr>\n",
       "      <th>16</th>\n",
       "      <td>梅西告诉你世界第5恐怖数据 把自己活成宇宙队 梅吹疯狂了</td>\n",
       "      <td>梅西 打进 任意球 这一 数据 五大 联赛 无人 更是 球队 超越 梅西 碾压 五大 联赛 ...</td>\n",
       "      <td>体育</td>\n",
       "    </tr>\n",
       "    <tr>\n",
       "      <th>17</th>\n",
       "      <td>简氏：卫星照片显示中国“神雕”无人机现身马兰基地</td>\n",
       "      <td>观察者 开源 英国 简氏 防务 周刊 美国 数字地球 公司 商业 卫星 拍摄 照片 显示 沈...</td>\n",
       "      <td>军事</td>\n",
       "    </tr>\n",
       "    <tr>\n",
       "      <th>18</th>\n",
       "      <td>7套大衣搭配真人示范，修身又显气质</td>\n",
       "      <td>分享 灵魂 拷问 明天 约会 天气 外套 最佳答案 肯定 大衣 大衣 羽绒 夹克 保暖性 外...</td>\n",
       "      <td>时尚</td>\n",
       "    </tr>\n",
       "    <tr>\n",
       "      <th>19</th>\n",
       "      <td>特朗普反击通用汽车关闭工厂 威胁对日本等外国汽车征关税</td>\n",
       "      <td>美国 总统 特朗普 白宫 研究 外国 汽车 实施 进口 处罚 回应 通用汽车公司 关闭 多家...</td>\n",
       "      <td>国际</td>\n",
       "    </tr>\n",
       "    <tr>\n",
       "      <th>20</th>\n",
       "      <td>许知远：中国崛起时，我们和世界的沟通语言只有消费</td>\n",
       "      <td>演讲 许知 微信 公众 吴晓波 频道 主持人 回答 没想到 我会 关键 寒冷 天气 假装 热...</td>\n",
       "      <td>财经</td>\n",
       "    </tr>\n",
       "    <tr>\n",
       "      <th>21</th>\n",
       "      <td>中国央行“结构性降息”VS美联储“固执加息”，传递六大信号！</td>\n",
       "      <td>ID wallstreetcn 文中 观点 投资 建议 2018 日晚 央行 创设 定向 中...</td>\n",
       "      <td>财经</td>\n",
       "    </tr>\n",
       "    <tr>\n",
       "      <th>22</th>\n",
       "      <td>看到蔡依林、戚薇、王菊、吴宣仪后，发现明年流行猫眼妆</td>\n",
       "      <td>爱看 艺人 走红 服装 小编 关注 妆容 一不小心 好像 发现 明年 眼妆 流行 趋势 蔡依...</td>\n",
       "      <td>时尚</td>\n",
       "    </tr>\n",
       "    <tr>\n",
       "      <th>23</th>\n",
       "      <td>大衣怎么穿才有活力？搭舒适的运动鞋，焕发青春的气息</td>\n",
       "      <td>天气 渐冷 越来越 仙女 大衣 压抑 冬天 轻盈 活力 小编 运动鞋 搭配 不错 仙女 增加...</td>\n",
       "      <td>时尚</td>\n",
       "    </tr>\n",
       "    <tr>\n",
       "      <th>24</th>\n",
       "      <td>想换飞机？先掏钱！美国估计6代战机价格将是F-35的3倍</td>\n",
       "      <td>美国空军 提出 2030 空军 发展 构想 穿透 制空 能力 隐身 战斗机 系统 处于 核心...</td>\n",
       "      <td>军事</td>\n",
       "    </tr>\n",
       "    <tr>\n",
       "      <th>25</th>\n",
       "      <td>释小龙晒照与童年的自己超时空同框，网友激起回忆杀</td>\n",
       "      <td>功夫 影星 释小龙 微博上 一张 合照 网友 热烈 讨论 只见 微博上 释小龙 写道 师傅 ...</td>\n",
       "      <td>娱乐</td>\n",
       "    </tr>\n",
       "    <tr>\n",
       "      <th>26</th>\n",
       "      <td>油价今晚再跌4毛2，跌幅再创新高</td>\n",
       "      <td>今晚 本市 汽柴油 价格 迎来 下调 中宇 资讯 测算 原油 变化率 11.14% 成品油 ...</td>\n",
       "      <td>财经</td>\n",
       "    </tr>\n",
       "    <tr>\n",
       "      <th>27</th>\n",
       "      <td>卡舒吉究竟是谁杀的？特朗普：最近几天之内会得出结论</td>\n",
       "      <td>环球网 综合 法新社 美国 总统 特朗普 周六 美国 未来 两天 杀害 沙特 卡舒吉 凶手 ...</td>\n",
       "      <td>国际</td>\n",
       "    </tr>\n",
       "    <tr>\n",
       "      <th>28</th>\n",
       "      <td>见死不救！叙库尔德武装抱怨攻打IS大本营未获美军医疗援助</td>\n",
       "      <td>资料 叙利亚 库尔德 武装 展示 150 车队 英国 太阳报 网站 发表 欧文 霍尔 达韦 ...</td>\n",
       "      <td>军事</td>\n",
       "    </tr>\n",
       "    <tr>\n",
       "      <th>29</th>\n",
       "      <td>今日头条要卖保险了 开价月薪20K-40K招产品负责人</td>\n",
       "      <td>近期 头条 进军 保险行业 坐实 国家 企业 信息 公司 系统 显示 2018 北京 华夏 ...</td>\n",
       "      <td>财经</td>\n",
       "    </tr>\n",
       "    <tr>\n",
       "      <th>...</th>\n",
       "      <td>...</td>\n",
       "      <td>...</td>\n",
       "      <td>...</td>\n",
       "    </tr>\n",
       "    <tr>\n",
       "      <th>9519</th>\n",
       "      <td>哈里斯关键抛投助球队逆转 篮网客场险胜公牛迎七连胜</td>\n",
       "      <td>腾讯 体育 日讯 篮网 客场 对阵 公牛 最终 篮网 逆转 险胜 公牛 这是 篮网 2012...</td>\n",
       "      <td>体育</td>\n",
       "    </tr>\n",
       "    <tr>\n",
       "      <th>9520</th>\n",
       "      <td>皇马状态不佳仍能横着走 轻取亚洲冠军 冲世俱杯纪录将超巴萨</td>\n",
       "      <td>腾讯 体育 日讯 开局 慢热 皇马 依然 连入 淘汰 亚冠 冠军 鹿岛 鹿角 连续 挺进 世...</td>\n",
       "      <td>体育</td>\n",
       "    </tr>\n",
       "    <tr>\n",
       "      <th>9521</th>\n",
       "      <td>辽篮单节失40分上次是1118天前 奇！一遇CBA这两队就懵</td>\n",
       "      <td>124 113 辽宁 主场 击败 青岛 连胜 最终 不错 过程 轻松 特别 本场 比赛 第三...</td>\n",
       "      <td>体育</td>\n",
       "    </tr>\n",
       "    <tr>\n",
       "      <th>9522</th>\n",
       "      <td>币圈挖矿机萧条英伟达受牵连 股价大跌市值单日缩水230亿美元</td>\n",
       "      <td>日英 伟达 发布 2019 第三季度 财报 业绩 不及 预期 股价 下跌 18.76% 16...</td>\n",
       "      <td>财经</td>\n",
       "    </tr>\n",
       "    <tr>\n",
       "      <th>9523</th>\n",
       "      <td>借DNA身份识别，因珍珠港遭袭牺牲的美国军人八十年后魂归故乡</td>\n",
       "      <td>著名 袭击 珍珠港事件 周年 美国 海军基地 珍珠港 二战 期间 日本 突然袭击 当年 受害...</td>\n",
       "      <td>国际</td>\n",
       "    </tr>\n",
       "    <tr>\n",
       "      <th>9524</th>\n",
       "      <td>外媒：贾跃亭已抵押美国豪宅多次借贷，若法拉第倒闭他将无计可施</td>\n",
       "      <td>外媒 贾跃亭 多年 制造 债务 炸弹 直到现在 终于 炸弹 威力 美国 房产 记录 显示 利...</td>\n",
       "      <td>科技</td>\n",
       "    </tr>\n",
       "    <tr>\n",
       "      <th>9525</th>\n",
       "      <td>国产C919大型客机103架机在浦东机场首飞成功</td>\n",
       "      <td>C919 第三架 原型机 首飞 成功 摄影 斯文 威猛 网友 最新 公布 照片 显示 201...</td>\n",
       "      <td>军事</td>\n",
       "    </tr>\n",
       "    <tr>\n",
       "      <th>9526</th>\n",
       "      <td>一波三折 美国佛州州长选举尘埃落定</td>\n",
       "      <td>陈立 美国 佛罗里达州 州长 选举 迟迟 难以 发布 最终 日以 民主党人 安德鲁 勒姆 承...</td>\n",
       "      <td>国际</td>\n",
       "    </tr>\n",
       "    <tr>\n",
       "      <th>9527</th>\n",
       "      <td>智能手机的2018：越过山丘？</td>\n",
       "      <td>图片 来源 视觉 中国 itlaoyou com2018 冬天 资金 链断裂 出货量 萎缩 ...</td>\n",
       "      <td>科技</td>\n",
       "    </tr>\n",
       "    <tr>\n",
       "      <th>9528</th>\n",
       "      <td>长大衣里面套裙子，竟然这么好看</td>\n",
       "      <td>大街 随处可见 大衣 羽绒服 裤子 套路 越来越 天气 人群 脱颖而出 简单 大衣 裙子 更...</td>\n",
       "      <td>时尚</td>\n",
       "    </tr>\n",
       "    <tr>\n",
       "      <th>9529</th>\n",
       "      <td>同样是穿棉服 63岁的刘晓庆完胜21岁的关晓彤</td>\n",
       "      <td>有句 心不老 生活态度 体现 穿着打扮 刘晓庆 年轻 发展 极致 称为 不老 女神 这组 图...</td>\n",
       "      <td>时尚</td>\n",
       "    </tr>\n",
       "    <tr>\n",
       "      <th>9530</th>\n",
       "      <td>美国副总统耍大牌住在澳洲天天搭专机去巴新开会，网友评论亮了</td>\n",
       "      <td>美国 总统 迈克 彭斯 抵达 澳大利亚 北部 城市 凯恩斯 访问 两天 参加 巴布亚新几内亚...</td>\n",
       "      <td>国际</td>\n",
       "    </tr>\n",
       "    <tr>\n",
       "      <th>9531</th>\n",
       "      <td>高速跑120，突然提示限速60，要急刹车吗？交警只说了三个字</td>\n",
       "      <td>高速 时速 120 驾驶 遵守规则 超速 等待 扣分 随之而来 罚款 高速 行驶 十二分 精...</td>\n",
       "      <td>汽车</td>\n",
       "    </tr>\n",
       "    <tr>\n",
       "      <th>9532</th>\n",
       "      <td>中移动七省市试点阶梯套餐 流量用得越多越便宜</td>\n",
       "      <td>资料 中国移动 展台 中新网 吴涛 中新网 客户端 北京 日电 吴涛 获悉 中国移动 先行 ...</td>\n",
       "      <td>科技</td>\n",
       "    </tr>\n",
       "    <tr>\n",
       "      <th>9533</th>\n",
       "      <td>售25.88-33.08万元 长安马自达CX-8广州区域上市</td>\n",
       "      <td>长安 马自达 全新 CX 广州 区域 正式 上市 新车 推出 四款 车型 售价 区间 25....</td>\n",
       "      <td>汽车</td>\n",
       "    </tr>\n",
       "    <tr>\n",
       "      <th>9534</th>\n",
       "      <td>冰壶世界杯日本女队逆转韩国夺冠 美国男队再胜瑞典</td>\n",
       "      <td>腾讯 体育讯 北京 2018 冰壶 世界杯 美国 奥马哈 落下 帷幕 决赛 平昌 冬奥会 冠...</td>\n",
       "      <td>体育</td>\n",
       "    </tr>\n",
       "    <tr>\n",
       "      <th>9535</th>\n",
       "      <td>英亲王成英史上首位成功种植珍贵黑松露的人，售价达5千美味稀有</td>\n",
       "      <td>镜报 英国 菲利普 亲王 英国 第一个 成功 种植 稀有 黑松 黑松 称为 钻石 菲利普 亲...</td>\n",
       "      <td>国际</td>\n",
       "    </tr>\n",
       "    <tr>\n",
       "      <th>9536</th>\n",
       "      <td>复星旅文香港上市首日破发 文旅＋地产模式遭质疑</td>\n",
       "      <td>复星 旅文 01992 HK 香港联交所 正式 挂牌 糟糕 业绩 复星 旅文 上市 首日 破...</td>\n",
       "      <td>科技</td>\n",
       "    </tr>\n",
       "    <tr>\n",
       "      <th>9537</th>\n",
       "      <td>俄媒：明年起汉语将加入“俄罗斯高考”</td>\n",
       "      <td>国家 统一 考试 汉语 科目 成绩 纳入 入学考试 高校 越来越 参加 汉语 考试 毕业生 ...</td>\n",
       "      <td>国际</td>\n",
       "    </tr>\n",
       "    <tr>\n",
       "      <th>9538</th>\n",
       "      <td>俄科学家死后大脑被冷冻保存，等待未来植入他人身体“复活”</td>\n",
       "      <td>下旬 俄罗斯 科学家 尤里 皮丘金 室外 突发 心脏病 昏倒 惨遭 冻死 街头 大脑 摘除 ...</td>\n",
       "      <td>国际</td>\n",
       "    </tr>\n",
       "    <tr>\n",
       "      <th>9539</th>\n",
       "      <td>火箭5连胜一数据成关键 重返西部前八只靠投三分远远不够</td>\n",
       "      <td>火箭 主场 136 118 大胜 奇才 收获 一波 连胜 战绩 重返 西部 前八 本场 哈登...</td>\n",
       "      <td>体育</td>\n",
       "    </tr>\n",
       "    <tr>\n",
       "      <th>9540</th>\n",
       "      <td>林更新即将离开，肯尼跟他约定：我会乖的，侯佩岑感动到泪目</td>\n",
       "      <td>全新 亲子 综艺节目 带我去 远方 开播 网友 喜欢 更新 节目 首位 飞行 嘉宾 侯佩岑 ...</td>\n",
       "      <td>娱乐</td>\n",
       "    </tr>\n",
       "    <tr>\n",
       "      <th>9541</th>\n",
       "      <td>超级好用的ACC，12万块就能搞定</td>\n",
       "      <td>HR ACC 喜欢 原因 简单 距离 判定 文明 前车 距离 距离 足够 距离 繁忙 路段 ...</td>\n",
       "      <td>汽车</td>\n",
       "    </tr>\n",
       "    <tr>\n",
       "      <th>9542</th>\n",
       "      <td>多款新车12月扎堆上市！这些兼顾颜值和空间的SUV，你心动吗</td>\n",
       "      <td>周末 踏入 月份 车迷 2018 一个月 车市 期待 车车 车企 焦急 发生 年底 多款 新...</td>\n",
       "      <td>汽车</td>\n",
       "    </tr>\n",
       "    <tr>\n",
       "      <th>9543</th>\n",
       "      <td>短呢大衣才是秋冬百搭款，小个子女生也能穿，轻松凹出时髦感</td>\n",
       "      <td>秋冬 气温 降低 穿衣 搭配 跟着 变得 困难 小个子 女生 好多 衣服 雷区 暴露 身高 ...</td>\n",
       "      <td>时尚</td>\n",
       "    </tr>\n",
       "    <tr>\n",
       "      <th>9544</th>\n",
       "      <td>2018年地图大战：AI化的百度地图，野心撑起的新纪元</td>\n",
       "      <td>2018 全球 红利 消退 一年 火热 互联网 细分 领域 例外 经历 上半年 科技股 上市...</td>\n",
       "      <td>科技</td>\n",
       "    </tr>\n",
       "    <tr>\n",
       "      <th>9545</th>\n",
       "      <td>上月沪市日均成交1530亿 金融委会议关注资本市场</td>\n",
       "      <td>京报 宓迪 央行 公布 2018 月份 金融市场 运行 情况 显示 月份 沪市 日均 交易量...</td>\n",
       "      <td>财经</td>\n",
       "    </tr>\n",
       "    <tr>\n",
       "      <th>9546</th>\n",
       "      <td>同是新疆女孩古装扮相，佟丽娅实力碾压哈尼克孜美到窒息</td>\n",
       "      <td>新疆 女孩 颜值 公认 迷人 精致 立体 五官 鼻梁 一种 混血 视感 佟丽娅 古力 迪丽 ...</td>\n",
       "      <td>时尚</td>\n",
       "    </tr>\n",
       "    <tr>\n",
       "      <th>9547</th>\n",
       "      <td>陈羽凡25岁女友素颜照曝光，两人谈恋爱都用暗号接头</td>\n",
       "      <td>羽泉 组合 陈羽 凡于 北京 XD 被捕 堪称 2018 年末 第一 大瓜 搭档 胡海泉 无...</td>\n",
       "      <td>娱乐</td>\n",
       "    </tr>\n",
       "    <tr>\n",
       "      <th>9548</th>\n",
       "      <td>美国2岁男童濒临死亡，其也门母亲终获政府签证以见孩子最后一面</td>\n",
       "      <td>CAIR 莎玛会 周三 抵达 旧金山 儿子 生命 系统 停止 运转 近期 美国 加州 一名 ...</td>\n",
       "      <td>国际</td>\n",
       "    </tr>\n",
       "  </tbody>\n",
       "</table>\n",
       "<p>9549 rows × 3 columns</p>\n",
       "</div>"
      ],
      "text/plain": [
       "                               title  \\\n",
       "0      NBA年度热文出炉 过去的2018年希望你能记住这十篇文章   \n",
       "1      李光洙公布恋情，女友李先彬竟撞脸宋慧乔张雨绮杨超越看懵网友   \n",
       "2         火箭近11战10胜震惊联盟 哈登之外还有两人功不可没   \n",
       "3      邻邦扫描：伊朗有意购入“枭龙”战机 印度“不掺和”围堵中国   \n",
       "4                车辆蓝牌之间的互换都有哪些条件的约束？   \n",
       "5     洗车工6万收回一辆君威准备翻新，修理工：不想后悔就5万卖给我   \n",
       "6            优信三季度营收大增，高盛预计其2020年可盈利   \n",
       "7               get不到针织开衫的时尚感？那是你没穿对   \n",
       "8            美国白宫宣布从叙利亚撤军 仍将继续对叙、伊施压   \n",
       "9     王霜独造3球大逆转 4个人防不住她 14场狂造10球征服欧洲   \n",
       "10          父母多年从事传销 成都大三女生无奈选择向警方举报   \n",
       "11     火箭少女一个比一个穿得厚实，徐梦洁腰上露半截秋衣真“邋遢”   \n",
       "12         为什么Apple Store员工愿意接受较低薪酬？   \n",
       "13           阿根廷防长：若花费40亿美元打捞潜艇太不理智了   \n",
       "14    关晓彤林心如同穿蓝色礼服，被林心如好气质征服，年龄真不是问题   \n",
       "15      33岁C罗还这么能射 但平均10脚才进1球 效率真是尴尬   \n",
       "16      梅西告诉你世界第5恐怖数据 把自己活成宇宙队 梅吹疯狂了   \n",
       "17          简氏：卫星照片显示中国“神雕”无人机现身马兰基地   \n",
       "18                 7套大衣搭配真人示范，修身又显气质   \n",
       "19       特朗普反击通用汽车关闭工厂 威胁对日本等外国汽车征关税   \n",
       "20          许知远：中国崛起时，我们和世界的沟通语言只有消费   \n",
       "21    中国央行“结构性降息”VS美联储“固执加息”，传递六大信号！   \n",
       "22        看到蔡依林、戚薇、王菊、吴宣仪后，发现明年流行猫眼妆   \n",
       "23         大衣怎么穿才有活力？搭舒适的运动鞋，焕发青春的气息   \n",
       "24      想换飞机？先掏钱！美国估计6代战机价格将是F-35的3倍   \n",
       "25          释小龙晒照与童年的自己超时空同框，网友激起回忆杀   \n",
       "26                  油价今晚再跌4毛2，跌幅再创新高   \n",
       "27         卡舒吉究竟是谁杀的？特朗普：最近几天之内会得出结论   \n",
       "28      见死不救！叙库尔德武装抱怨攻打IS大本营未获美军医疗援助   \n",
       "29       今日头条要卖保险了 开价月薪20K-40K招产品负责人   \n",
       "...                              ...   \n",
       "9519       哈里斯关键抛投助球队逆转 篮网客场险胜公牛迎七连胜   \n",
       "9520   皇马状态不佳仍能横着走 轻取亚洲冠军 冲世俱杯纪录将超巴萨   \n",
       "9521  辽篮单节失40分上次是1118天前 奇！一遇CBA这两队就懵   \n",
       "9522  币圈挖矿机萧条英伟达受牵连 股价大跌市值单日缩水230亿美元   \n",
       "9523  借DNA身份识别，因珍珠港遭袭牺牲的美国军人八十年后魂归故乡   \n",
       "9524  外媒：贾跃亭已抵押美国豪宅多次借贷，若法拉第倒闭他将无计可施   \n",
       "9525        国产C919大型客机103架机在浦东机场首飞成功   \n",
       "9526               一波三折 美国佛州州长选举尘埃落定   \n",
       "9527                 智能手机的2018：越过山丘？   \n",
       "9528                 长大衣里面套裙子，竟然这么好看   \n",
       "9529         同样是穿棉服 63岁的刘晓庆完胜21岁的关晓彤   \n",
       "9530   美国副总统耍大牌住在澳洲天天搭专机去巴新开会，网友评论亮了   \n",
       "9531  高速跑120，突然提示限速60，要急刹车吗？交警只说了三个字   \n",
       "9532          中移动七省市试点阶梯套餐 流量用得越多越便宜   \n",
       "9533  售25.88-33.08万元 长安马自达CX-8广州区域上市   \n",
       "9534        冰壶世界杯日本女队逆转韩国夺冠 美国男队再胜瑞典   \n",
       "9535  英亲王成英史上首位成功种植珍贵黑松露的人，售价达5千美味稀有   \n",
       "9536         复星旅文香港上市首日破发 文旅＋地产模式遭质疑   \n",
       "9537              俄媒：明年起汉语将加入“俄罗斯高考”   \n",
       "9538    俄科学家死后大脑被冷冻保存，等待未来植入他人身体“复活”   \n",
       "9539     火箭5连胜一数据成关键 重返西部前八只靠投三分远远不够   \n",
       "9540    林更新即将离开，肯尼跟他约定：我会乖的，侯佩岑感动到泪目   \n",
       "9541               超级好用的ACC，12万块就能搞定   \n",
       "9542  多款新车12月扎堆上市！这些兼顾颜值和空间的SUV，你心动吗   \n",
       "9543    短呢大衣才是秋冬百搭款，小个子女生也能穿，轻松凹出时髦感   \n",
       "9544     2018年地图大战：AI化的百度地图，野心撑起的新纪元   \n",
       "9545       上月沪市日均成交1530亿 金融委会议关注资本市场   \n",
       "9546      同是新疆女孩古装扮相，佟丽娅实力碾压哈尼克孜美到窒息   \n",
       "9547       陈羽凡25岁女友素颜照曝光，两人谈恋爱都用暗号接头   \n",
       "9548  美国2岁男童濒临死亡，其也门母亲终获政府签证以见孩子最后一面   \n",
       "\n",
       "                                                content label  \n",
       "0     文章 记录 时光 如果说 一年 365 天是 本书 文字 标注 记忆 书签 鞭辟入里 分析 ...    体育  \n",
       "1     2018 李光洙 李先彬 恋情 公开 娱乐圈 一弹 粉红 炮弹 光洙 欧巴 2018 顺利 ...    时尚  \n",
       "2     北京 2019 时差 关系 火箭 主场 比赛 2018 收官 之战 一场 大胜 詹姆斯 哈登...    体育  \n",
       "3     2018 南亚 军情 热点 频现 印度 俄罗斯 达成 多项 巨额 军售 订单 伊朗 有意 巴...    军事  \n",
       "4     深圳 比亚迪 车辆 销量 新能源 汽车 燃油 汽车 比亚迪 比亚迪 消费者 青睐 消费者 在...    汽车  \n",
       "5     家住 河北 唐山 一名 车工 海奇 化名 洗车 打工 二手车 修理厂 工人 打交道 原因 利...    汽车  \n",
       "6     二手车 电商 平台 优信 日前 发布 2018 第三季度 财报 显示 报告 期内 优信 2C...    财经  \n",
       "7     立冬 针织 开衫 永远 过时 单品 大法 收藏 开春 不用 搭配 发愁 针织 开衫 同色 套...    时尚  \n",
       "8     俄罗斯 卫星 通讯社 周三 美国白宫 发言人 桑德斯 美国 叙利亚 撤军 美军 部队 撤离 ...    国际  \n",
       "9     王霜 率队 逆转 制造 巴黎 圣日耳曼 女足 稳法 甲第 距离 第一 里昂 差距 王霜 各项...    体育  \n",
       "10    一名 传销 组织 女士 展示 传销 组织 交钱 签订 中国 分享 经济 经销商 申购 照片 ...    科技  \n",
       "11    火箭 少女 101 现身 机场 冬日 几名 少女 寒冷 天气 搭配 傅菁 身着 长款 黑色 ...    时尚  \n",
       "12    光顾 苹果 Apple Store 零售店 员工 苹果 高薪 方式 留住 人才 并非如此 英...    科技  \n",
       "13    俄罗斯 塔斯社 阿根廷 国防部长 奥斯卡 阿瓜德 周日 拨款 亿美元 海底 打捞 一年 失踪...    军事  \n",
       "14    前段时间 华表奖 群星 云集 抢眼 童星 出身 关晓彤 国民 闺女 形象 深入人心 一仆二主...    时尚  \n",
       "15    经历 尴尬 一夜 尤文 赢球 罗有 一项 纪录 刷新 纪录 光彩 全场 比赛 结束 意甲 射...    体育  \n",
       "16    梅西 打进 任意球 这一 数据 五大 联赛 无人 更是 球队 超越 梅西 碾压 五大 联赛 ...    体育  \n",
       "17    观察者 开源 英国 简氏 防务 周刊 美国 数字地球 公司 商业 卫星 拍摄 照片 显示 沈...    军事  \n",
       "18    分享 灵魂 拷问 明天 约会 天气 外套 最佳答案 肯定 大衣 大衣 羽绒 夹克 保暖性 外...    时尚  \n",
       "19    美国 总统 特朗普 白宫 研究 外国 汽车 实施 进口 处罚 回应 通用汽车公司 关闭 多家...    国际  \n",
       "20    演讲 许知 微信 公众 吴晓波 频道 主持人 回答 没想到 我会 关键 寒冷 天气 假装 热...    财经  \n",
       "21    ID wallstreetcn 文中 观点 投资 建议 2018 日晚 央行 创设 定向 中...    财经  \n",
       "22    爱看 艺人 走红 服装 小编 关注 妆容 一不小心 好像 发现 明年 眼妆 流行 趋势 蔡依...    时尚  \n",
       "23    天气 渐冷 越来越 仙女 大衣 压抑 冬天 轻盈 活力 小编 运动鞋 搭配 不错 仙女 增加...    时尚  \n",
       "24    美国空军 提出 2030 空军 发展 构想 穿透 制空 能力 隐身 战斗机 系统 处于 核心...    军事  \n",
       "25    功夫 影星 释小龙 微博上 一张 合照 网友 热烈 讨论 只见 微博上 释小龙 写道 师傅 ...    娱乐  \n",
       "26    今晚 本市 汽柴油 价格 迎来 下调 中宇 资讯 测算 原油 变化率 11.14% 成品油 ...    财经  \n",
       "27    环球网 综合 法新社 美国 总统 特朗普 周六 美国 未来 两天 杀害 沙特 卡舒吉 凶手 ...    国际  \n",
       "28    资料 叙利亚 库尔德 武装 展示 150 车队 英国 太阳报 网站 发表 欧文 霍尔 达韦 ...    军事  \n",
       "29    近期 头条 进军 保险行业 坐实 国家 企业 信息 公司 系统 显示 2018 北京 华夏 ...    财经  \n",
       "...                                                 ...   ...  \n",
       "9519  腾讯 体育 日讯 篮网 客场 对阵 公牛 最终 篮网 逆转 险胜 公牛 这是 篮网 2012...    体育  \n",
       "9520  腾讯 体育 日讯 开局 慢热 皇马 依然 连入 淘汰 亚冠 冠军 鹿岛 鹿角 连续 挺进 世...    体育  \n",
       "9521  124 113 辽宁 主场 击败 青岛 连胜 最终 不错 过程 轻松 特别 本场 比赛 第三...    体育  \n",
       "9522  日英 伟达 发布 2019 第三季度 财报 业绩 不及 预期 股价 下跌 18.76% 16...    财经  \n",
       "9523  著名 袭击 珍珠港事件 周年 美国 海军基地 珍珠港 二战 期间 日本 突然袭击 当年 受害...    国际  \n",
       "9524  外媒 贾跃亭 多年 制造 债务 炸弹 直到现在 终于 炸弹 威力 美国 房产 记录 显示 利...    科技  \n",
       "9525  C919 第三架 原型机 首飞 成功 摄影 斯文 威猛 网友 最新 公布 照片 显示 201...    军事  \n",
       "9526  陈立 美国 佛罗里达州 州长 选举 迟迟 难以 发布 最终 日以 民主党人 安德鲁 勒姆 承...    国际  \n",
       "9527  图片 来源 视觉 中国 itlaoyou com2018 冬天 资金 链断裂 出货量 萎缩 ...    科技  \n",
       "9528  大街 随处可见 大衣 羽绒服 裤子 套路 越来越 天气 人群 脱颖而出 简单 大衣 裙子 更...    时尚  \n",
       "9529  有句 心不老 生活态度 体现 穿着打扮 刘晓庆 年轻 发展 极致 称为 不老 女神 这组 图...    时尚  \n",
       "9530  美国 总统 迈克 彭斯 抵达 澳大利亚 北部 城市 凯恩斯 访问 两天 参加 巴布亚新几内亚...    国际  \n",
       "9531  高速 时速 120 驾驶 遵守规则 超速 等待 扣分 随之而来 罚款 高速 行驶 十二分 精...    汽车  \n",
       "9532  资料 中国移动 展台 中新网 吴涛 中新网 客户端 北京 日电 吴涛 获悉 中国移动 先行 ...    科技  \n",
       "9533  长安 马自达 全新 CX 广州 区域 正式 上市 新车 推出 四款 车型 售价 区间 25....    汽车  \n",
       "9534  腾讯 体育讯 北京 2018 冰壶 世界杯 美国 奥马哈 落下 帷幕 决赛 平昌 冬奥会 冠...    体育  \n",
       "9535  镜报 英国 菲利普 亲王 英国 第一个 成功 种植 稀有 黑松 黑松 称为 钻石 菲利普 亲...    国际  \n",
       "9536  复星 旅文 01992 HK 香港联交所 正式 挂牌 糟糕 业绩 复星 旅文 上市 首日 破...    科技  \n",
       "9537  国家 统一 考试 汉语 科目 成绩 纳入 入学考试 高校 越来越 参加 汉语 考试 毕业生 ...    国际  \n",
       "9538  下旬 俄罗斯 科学家 尤里 皮丘金 室外 突发 心脏病 昏倒 惨遭 冻死 街头 大脑 摘除 ...    国际  \n",
       "9539  火箭 主场 136 118 大胜 奇才 收获 一波 连胜 战绩 重返 西部 前八 本场 哈登...    体育  \n",
       "9540  全新 亲子 综艺节目 带我去 远方 开播 网友 喜欢 更新 节目 首位 飞行 嘉宾 侯佩岑 ...    娱乐  \n",
       "9541  HR ACC 喜欢 原因 简单 距离 判定 文明 前车 距离 距离 足够 距离 繁忙 路段 ...    汽车  \n",
       "9542  周末 踏入 月份 车迷 2018 一个月 车市 期待 车车 车企 焦急 发生 年底 多款 新...    汽车  \n",
       "9543  秋冬 气温 降低 穿衣 搭配 跟着 变得 困难 小个子 女生 好多 衣服 雷区 暴露 身高 ...    时尚  \n",
       "9544  2018 全球 红利 消退 一年 火热 互联网 细分 领域 例外 经历 上半年 科技股 上市...    科技  \n",
       "9545  京报 宓迪 央行 公布 2018 月份 金融市场 运行 情况 显示 月份 沪市 日均 交易量...    财经  \n",
       "9546  新疆 女孩 颜值 公认 迷人 精致 立体 五官 鼻梁 一种 混血 视感 佟丽娅 古力 迪丽 ...    时尚  \n",
       "9547  羽泉 组合 陈羽 凡于 北京 XD 被捕 堪称 2018 年末 第一 大瓜 搭档 胡海泉 无...    娱乐  \n",
       "9548  CAIR 莎玛会 周三 抵达 旧金山 儿子 生命 系统 停止 运转 近期 美国 加州 一名 ...    国际  \n",
       "\n",
       "[9549 rows x 3 columns]"
      ]
     },
     "execution_count": 3,
     "metadata": {},
     "output_type": "execute_result"
    }
   ],
   "source": [
    "df_news"
   ]
  },
  {
   "cell_type": "markdown",
   "metadata": {},
   "source": [
    "### 切分数据集"
   ]
  },
  {
   "cell_type": "code",
   "execution_count": 4,
   "metadata": {
    "ExecuteTime": {
     "end_time": "2019-04-19T11:12:35.416871Z",
     "start_time": "2019-04-19T11:12:34.444710Z"
    }
   },
   "outputs": [],
   "source": [
    "X = df_news['content']\n",
    "y = df_news['label']\n",
    "\n",
    "# 切分为训练集和测试集\n",
    "from sklearn.model_selection import train_test_split\n",
    "X_train, X_test, y_train, y_test = train_test_split(X, y, test_size=0.2, random_state=0)"
   ]
  },
  {
   "cell_type": "markdown",
   "metadata": {},
   "source": [
    "### 特征提取（tf-idf）"
   ]
  },
  {
   "cell_type": "code",
   "execution_count": 6,
   "metadata": {},
   "outputs": [
    {
     "data": {
      "text/plain": [
       "'编译 观察者 网史 雨轩 著名 国际 数码 网站 iDropNews12 首台 iPhone XS Max 自燃 现象 一名 美国 午休 闻到 奇怪 气味 皮肤 感觉 热量 裤兜 iPhone XS Max 自燃 致使 受伤 公司 副总裁 灭火器 苹果 零售店 连续 遭遇 冷遇 客服 更换 新机 赔偿 这名 吹嘘 brag 苹果 一家 公司 苹果 信心 法律手段 这位 苹果 用户 乔西 希拉 Josh Hillard 俄亥俄州 哥伦布 午休 裤子 发出 一股 奇怪 气味 感觉 皮肤 燃烧 热量 烧伤 希拉 德说 手机 燃起 脱掉 裤子 手机 取出 过程 吸入 烟雾 公司 副总裁 听到 大喊大叫 灭火器 希拉 德说 手机 熄灭 裤子 留下 裤子 臀部 刺痛感 当天 晚些时候 自燃 iPhone XS Max Apple store 苹果 零售店 一名 员工 交谈 分钟 回答 员工 取出 手机 SIM卡 但卡 融化 这名 员工 告诉 希拉 团队 打电话 手机带 房间 分钟 希拉 等待 过程 希拉 冷遇 经理 找到 员工 员工 包装 手机 露面 手机 送回 工程 团队 经理 这是 希拉 更换 iPhone XS Max 新机 唯一 方法 工作人员 告诉 确认 手机 自燃 做出 承诺 希拉 德称 Apple Store 服务 满意 店里 做不了 手机 回家 回家 希拉 德给 Apple Care 专线 打电话 电话 转到 安全部门 高级 专家 手机 事件 位置 信息 希拉 iPhone XS Max 事发 三周 长期 滥用 电池 可能性 很小 一台 新手机 希望 苹果 赔偿 事故 损失 衣服 裤子 希拉 补充 吹嘘 brag 苹果 一家 公司 苹果 信心 希拉 法律手段 本文 观察者 独家 稿件 未经 授权 转载'"
      ]
     },
     "execution_count": 6,
     "metadata": {},
     "output_type": "execute_result"
    }
   ],
   "source": [
    "df_news.loc[1000].content"
   ]
  },
  {
   "cell_type": "code",
   "execution_count": 7,
   "metadata": {},
   "outputs": [
    {
     "data": {
      "text/plain": [
       "'财经'"
      ]
     },
     "execution_count": 7,
     "metadata": {},
     "output_type": "execute_result"
    }
   ],
   "source": [
    "df_news.loc[1000].label"
   ]
  },
  {
   "cell_type": "code",
   "execution_count": 8,
   "metadata": {},
   "outputs": [
    {
     "name": "stderr",
     "output_type": "stream",
     "text": [
      "Building prefix dict from the default dictionary ...\n",
      "Loading model from cache /var/folders/_2/6d25h_q11hng4cff1wsm011h0000gn/T/jieba.cache\n",
      "Loading model cost 0.772 seconds.\n",
      "Prefix dict has been built succesfully.\n"
     ]
    },
    {
     "name": "stdout",
     "output_type": "stream",
     "text": [
      "['希拉', '苹果', 'iPhone', 'XS', 'Max', '手机', '自燃', '裤子', 'Apple', '员工', 'brag', '德说', '新机', '灭火器', '零售店', '午休', '法律手段', '观察者', '冷遇', '吹嘘', '这名', '副总裁', '赔偿', '更换', '气味', '热量', '打电话', '团队', '公司', '雨轩']\n"
     ]
    }
   ],
   "source": [
    "import jieba.analyse as analyse\n",
    "content = df_news.loc[1000].content\n",
    "print(analyse.extract_tags(content, topK=30, withWeight=False, allowPOS=()))  # 提取30个特征词"
   ]
  },
  {
   "cell_type": "markdown",
   "metadata": {},
   "source": [
    "### tf-idf矩阵向量"
   ]
  },
  {
   "cell_type": "code",
   "execution_count": 5,
   "metadata": {
    "ExecuteTime": {
     "end_time": "2019-04-19T11:12:44.714838Z",
     "start_time": "2019-04-19T11:12:39.578687Z"
    }
   },
   "outputs": [],
   "source": [
    "from sklearn.feature_extraction.text import TfidfVectorizer\n",
    "vect = TfidfVectorizer(max_features=30000, lowercase=False).fit(X_train)\n",
    "X_train_tfidf = vect.transform(X_train)\n",
    "X_test_tfidf = vect.transform(X_test)"
   ]
  },
  {
   "cell_type": "code",
   "execution_count": 6,
   "metadata": {
    "ExecuteTime": {
     "end_time": "2019-04-19T11:12:46.610442Z",
     "start_time": "2019-04-19T11:12:46.606000Z"
    }
   },
   "outputs": [
    {
     "data": {
      "text/plain": [
       "(7639, 30000)"
      ]
     },
     "execution_count": 6,
     "metadata": {},
     "output_type": "execute_result"
    }
   ],
   "source": [
    "X_train_tfidf.shape"
   ]
  },
  {
   "cell_type": "code",
   "execution_count": 51,
   "metadata": {},
   "outputs": [
    {
     "name": "stdout",
     "output_type": "stream",
     "text": [
      "[[0.         0.57735027 0.         0.         0.57735027 0.\n",
      "  0.         0.         0.57735027 0.        ]\n",
      " [0.33333333 0.66666667 0.33333333 0.         0.         0.\n",
      "  0.33333333 0.33333333 0.         0.33333333]\n",
      " [0.         0.5        0.         0.5        0.5        0.5\n",
      "  0.         0.         0.         0.        ]]\n",
      "[[0.         0.57735027 0.         0.         0.74344359 0.\n",
      "  0.         0.         0.97753898 0.        ]\n",
      " [0.56438239 0.66666667 0.56438239 0.         0.         0.\n",
      "  0.56438239 0.56438239 0.         0.56438239]\n",
      " [0.         0.5        0.         0.84657359 0.64384104 0.84657359\n",
      "  0.         0.         0.         0.        ]]\n",
      "[[0.         0.42544054 0.         0.         0.54783215 0.\n",
      "  0.         0.         0.72033345 0.        ]\n",
      " [0.39542964 0.46709423 0.39542964 0.         0.         0.\n",
      "  0.39542964 0.39542964 0.         0.39542964]\n",
      " [0.         0.34520502 0.         0.5844829  0.44451431 0.5844829\n",
      "  0.         0.         0.         0.        ]]\n"
     ]
    }
   ],
   "source": [
    "from sklearn.preprocessing import Normalizer\n",
    "from sklearn.feature_extraction.text import CountVectorizer\n",
    "from sklearn.feature_extraction.text import TfidfTransformer\n",
    "words_list = ['国足 迎战 巴勒斯坦','叙利亚 国足 完胜 这场 比赛 国足 表现','巴勒斯坦 国足 有些 差距']\n",
    "cv = CountVectorizer()\n",
    "cv_result = cv.fit_transform(words_list)\n",
    "print(Normalizer().fit_transform(cv_result.toarray()))\n",
    "tfidf_trans = TfidfTransformer(norm=None).fit_transform(Normalizer().fit_transform(cv_result.toarray()))\n",
    "print(tfidf_trans.toarray())\n",
    "print(Normalizer().fit_transform(tfidf_trans.toarray()))\n",
    "# tfidf = TfidfVectorizer()\n",
    "# tfidf_result = tfidf.fit_transform(words_list)\n",
    "# print(tfidf.get_feature_names())\n",
    "# tfidf_result.toarray()"
   ]
  },
  {
   "cell_type": "markdown",
   "metadata": {},
   "source": [
    "#### 朴素贝叶斯模型"
   ]
  },
  {
   "cell_type": "code",
   "execution_count": 7,
   "metadata": {
    "ExecuteTime": {
     "end_time": "2019-04-19T11:12:50.864042Z",
     "start_time": "2019-04-19T11:12:50.821284Z"
    }
   },
   "outputs": [
    {
     "data": {
      "text/plain": [
       "MultinomialNB(alpha=0.04, class_prior=None, fit_prior=True)"
      ]
     },
     "execution_count": 7,
     "metadata": {},
     "output_type": "execute_result"
    }
   ],
   "source": [
    "from sklearn.naive_bayes import MultinomialNB\n",
    "clfrNB = MultinomialNB(alpha=0.04)\n",
    "clfrNB.fit(X_train_tfidf, y_train)"
   ]
  },
  {
   "cell_type": "code",
   "execution_count": 8,
   "metadata": {
    "ExecuteTime": {
     "end_time": "2019-04-19T11:12:52.257672Z",
     "start_time": "2019-04-19T11:12:52.228793Z"
    }
   },
   "outputs": [
    {
     "name": "stdout",
     "output_type": "stream",
     "text": [
      "0.9077104333027883\n",
      "0.8424083769633508\n"
     ]
    }
   ],
   "source": [
    "print(clfrNB.score(X_train_tfidf, y_train))\n",
    "print(clfrNB.score(X_test_tfidf, y_test))"
   ]
  },
  {
   "cell_type": "code",
   "execution_count": 9,
   "metadata": {
    "ExecuteTime": {
     "end_time": "2019-04-19T11:16:01.806145Z",
     "start_time": "2019-04-19T11:16:01.778075Z"
    }
   },
   "outputs": [
    {
     "name": "stdout",
     "output_type": "stream",
     "text": [
      "              precision    recall  f1-score   support\n",
      "\n",
      "          体育       0.99      1.00      0.99       209\n",
      "          军事       0.76      0.81      0.78       199\n",
      "          国际       0.80      0.70      0.75       218\n",
      "          娱乐       0.85      0.92      0.89       189\n",
      "          时尚       0.95      0.90      0.92       314\n",
      "          汽车       0.98      0.94      0.96       252\n",
      "          科技       0.70      0.72      0.71       260\n",
      "          财经       0.73      0.77      0.75       269\n",
      "\n",
      "   micro avg       0.84      0.84      0.84      1910\n",
      "   macro avg       0.84      0.84      0.84      1910\n",
      "weighted avg       0.85      0.84      0.84      1910\n",
      "\n"
     ]
    }
   ],
   "source": [
    "from sklearn.metrics import classification_report\n",
    "bayes_predict = clfrNB.predict(X_test_tfidf)\n",
    "print(classification_report(y_test, bayes_predict))"
   ]
  },
  {
   "cell_type": "markdown",
   "metadata": {},
   "source": [
    "#### 逻辑回归模型"
   ]
  },
  {
   "cell_type": "code",
   "execution_count": 10,
   "metadata": {
    "ExecuteTime": {
     "end_time": "2019-04-19T11:19:59.510231Z",
     "start_time": "2019-04-19T11:19:57.351735Z"
    }
   },
   "outputs": [
    {
     "name": "stderr",
     "output_type": "stream",
     "text": [
      "/Applications/anaconda3/lib/python3.6/site-packages/sklearn/linear_model/logistic.py:433: FutureWarning: Default solver will be changed to 'lbfgs' in 0.22. Specify a solver to silence this warning.\n",
      "  FutureWarning)\n",
      "/Applications/anaconda3/lib/python3.6/site-packages/sklearn/linear_model/logistic.py:460: FutureWarning: Default multi_class will be changed to 'auto' in 0.22. Specify the multi_class option to silence this warning.\n",
      "  \"this warning.\", FutureWarning)\n"
     ]
    },
    {
     "data": {
      "text/plain": [
       "LogisticRegression(C=2, class_weight=None, dual=False, fit_intercept=True,\n",
       "          intercept_scaling=1, max_iter=100, multi_class='warn',\n",
       "          n_jobs=None, penalty='l2', random_state=None, solver='warn',\n",
       "          tol=0.0001, verbose=0, warm_start=False)"
      ]
     },
     "execution_count": 10,
     "metadata": {},
     "output_type": "execute_result"
    }
   ],
   "source": [
    "from sklearn.linear_model import LogisticRegression\n",
    "logis = LogisticRegression(C=2)\n",
    "logis.fit(X_train_tfidf, y_train)"
   ]
  },
  {
   "cell_type": "code",
   "execution_count": 11,
   "metadata": {
    "ExecuteTime": {
     "end_time": "2019-04-19T11:20:01.862357Z",
     "start_time": "2019-04-19T11:20:01.833182Z"
    }
   },
   "outputs": [
    {
     "name": "stdout",
     "output_type": "stream",
     "text": [
      "0.9297028406859537\n",
      "0.8303664921465969\n"
     ]
    }
   ],
   "source": [
    "print(logis.score(X_train_tfidf, y_train))\n",
    "print(logis.score(X_test_tfidf, y_test))"
   ]
  },
  {
   "cell_type": "code",
   "execution_count": 12,
   "metadata": {
    "ExecuteTime": {
     "end_time": "2019-04-19T11:21:12.954429Z",
     "start_time": "2019-04-19T11:21:12.921149Z"
    }
   },
   "outputs": [
    {
     "name": "stdout",
     "output_type": "stream",
     "text": [
      "              precision    recall  f1-score   support\n",
      "\n",
      "          体育       0.99      0.99      0.99       209\n",
      "          军事       0.75      0.74      0.75       199\n",
      "          国际       0.75      0.71      0.73       218\n",
      "          娱乐       0.86      0.89      0.88       189\n",
      "          时尚       0.94      0.92      0.93       314\n",
      "          汽车       0.96      0.95      0.95       252\n",
      "          科技       0.68      0.71      0.69       260\n",
      "          财经       0.72      0.74      0.73       269\n",
      "\n",
      "   micro avg       0.83      0.83      0.83      1910\n",
      "   macro avg       0.83      0.83      0.83      1910\n",
      "weighted avg       0.83      0.83      0.83      1910\n",
      "\n"
     ]
    }
   ],
   "source": [
    "logis_predict = logis.predict(X_test_tfidf)\n",
    "print(classification_report(y_test, logis_predict))"
   ]
  },
  {
   "cell_type": "markdown",
   "metadata": {},
   "source": [
    "#### SVM模型"
   ]
  },
  {
   "cell_type": "code",
   "execution_count": 17,
   "metadata": {
    "ExecuteTime": {
     "end_time": "2019-04-20T03:12:20.393793Z",
     "start_time": "2019-04-20T03:07:14.409610Z"
    }
   },
   "outputs": [
    {
     "name": "stderr",
     "output_type": "stream",
     "text": [
      "/Applications/anaconda3/lib/python3.6/site-packages/sklearn/svm/base.py:196: FutureWarning: The default value of gamma will change from 'auto' to 'scale' in version 0.22 to account better for unscaled features. Set gamma explicitly to 'auto' or 'scale' to avoid this warning.\n",
      "  \"avoid this warning.\", FutureWarning)\n"
     ]
    },
    {
     "data": {
      "text/plain": [
       "SVC(C=10000, cache_size=200, class_weight=None, coef0=0.0,\n",
       "  decision_function_shape='ovr', degree=3, gamma='auto_deprecated',\n",
       "  kernel='rbf', max_iter=-1, probability=True, random_state=None,\n",
       "  shrinking=True, tol=0.001, verbose=False)"
      ]
     },
     "execution_count": 17,
     "metadata": {},
     "output_type": "execute_result"
    }
   ],
   "source": [
    "from sklearn.svm import SVC\n",
    "svm = SVC(C=10000, probability=True)\n",
    "svm.fit(X_train_tfidf, y_train)"
   ]
  },
  {
   "cell_type": "code",
   "execution_count": 18,
   "metadata": {
    "ExecuteTime": {
     "end_time": "2019-04-20T03:13:42.608740Z",
     "start_time": "2019-04-20T03:12:40.753519Z"
    }
   },
   "outputs": [
    {
     "name": "stdout",
     "output_type": "stream",
     "text": [
      "0.9272156041366671\n",
      "0.8345549738219895\n"
     ]
    }
   ],
   "source": [
    "print(svm.score(X_train_tfidf, y_train))\n",
    "print(svm.score(X_test_tfidf, y_test))"
   ]
  },
  {
   "cell_type": "code",
   "execution_count": 19,
   "metadata": {
    "ExecuteTime": {
     "end_time": "2019-04-20T03:13:59.637817Z",
     "start_time": "2019-04-20T03:13:47.198930Z"
    }
   },
   "outputs": [
    {
     "name": "stdout",
     "output_type": "stream",
     "text": [
      "              precision    recall  f1-score   support\n",
      "\n",
      "          体育       0.99      0.99      0.99       209\n",
      "          军事       0.75      0.78      0.77       199\n",
      "          国际       0.76      0.70      0.73       218\n",
      "          娱乐       0.86      0.91      0.88       189\n",
      "          时尚       0.95      0.90      0.93       314\n",
      "          汽车       0.96      0.95      0.95       252\n",
      "          科技       0.68      0.73      0.70       260\n",
      "          财经       0.73      0.73      0.73       269\n",
      "\n",
      "   micro avg       0.83      0.83      0.83      1910\n",
      "   macro avg       0.84      0.84      0.83      1910\n",
      "weighted avg       0.84      0.83      0.84      1910\n",
      "\n"
     ]
    }
   ],
   "source": [
    "svm_predict = svm.predict(X_test_tfidf)\n",
    "print(classification_report(y_test, svm_predict))"
   ]
  },
  {
   "cell_type": "markdown",
   "metadata": {},
   "source": [
    "### 保存最优模型用于后续测试"
   ]
  },
  {
   "cell_type": "code",
   "execution_count": 20,
   "metadata": {
    "ExecuteTime": {
     "end_time": "2019-04-20T03:14:11.032114Z",
     "start_time": "2019-04-20T03:14:10.803053Z"
    }
   },
   "outputs": [],
   "source": [
    "import pickle\n",
    "\n",
    "pickle.dump(clfrNB, open(\"./models_save/MultinomialNB.pkl\", 'wb'))\n",
    "pickle.dump(logis, open(\"./models_save/logistic.pkl\", 'wb'))\n",
    "pickle.dump(svm, open(\"./models_save/svm.pkl\", 'wb'))\n",
    "pickle.dump(vect, open(\"./models_save/vect.pkl\", 'wb'))"
   ]
  }
 ],
 "metadata": {
  "hide_input": false,
  "kernelspec": {
   "display_name": "Python 3",
   "language": "python",
   "name": "python3"
  },
  "language_info": {
   "codemirror_mode": {
    "name": "ipython",
    "version": 3
   },
   "file_extension": ".py",
   "mimetype": "text/x-python",
   "name": "python",
   "nbconvert_exporter": "python",
   "pygments_lexer": "ipython3",
   "version": "3.6.5"
  },
  "toc": {
   "base_numbering": 1,
   "nav_menu": {},
   "number_sections": true,
   "sideBar": true,
   "skip_h1_title": false,
   "title_cell": "Table of Contents",
   "title_sidebar": "Contents",
   "toc_cell": false,
   "toc_position": {},
   "toc_section_display": true,
   "toc_window_display": true
  },
  "varInspector": {
   "cols": {
    "lenName": 16,
    "lenType": 16,
    "lenVar": 40
   },
   "kernels_config": {
    "python": {
     "delete_cmd_postfix": "",
     "delete_cmd_prefix": "del ",
     "library": "var_list.py",
     "varRefreshCmd": "print(var_dic_list())"
    },
    "r": {
     "delete_cmd_postfix": ") ",
     "delete_cmd_prefix": "rm(",
     "library": "var_list.r",
     "varRefreshCmd": "cat(var_dic_list()) "
    }
   },
   "types_to_exclude": [
    "module",
    "function",
    "builtin_function_or_method",
    "instance",
    "_Feature"
   ],
   "window_display": false
  }
 },
 "nbformat": 4,
 "nbformat_minor": 2
}
