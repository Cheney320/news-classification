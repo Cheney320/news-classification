{
 "cells": [
  {
   "cell_type": "markdown",
   "metadata": {},
   "source": [
    "### Stacking模型"
   ]
  },
  {
   "cell_type": "markdown",
   "metadata": {},
   "source": [
    "#### 定义基础模型"
   ]
  },
  {
   "cell_type": "code",
   "execution_count": 5,
   "metadata": {
    "ExecuteTime": {
     "end_time": "2019-04-22T15:46:34.485399Z",
     "start_time": "2019-04-22T15:46:34.461617Z"
    }
   },
   "outputs": [],
   "source": [
    "import pickle\n",
    "from sklearn.naive_bayes import MultinomialNB\n",
    "from sklearn.linear_model import LogisticRegression\n",
    "from sklearn.svm import SVC\n",
    "from sklearn.ensemble import GradientBoostingClassifier,RandomForestClassifier\n",
    "from sklearn.neighbors import KNeighborsClassifier\n",
    "\n",
    "\n",
    "def get_models():\n",
    "\n",
    "    nb = MultinomialNB(alpha=0.04)\n",
    "    lg = LogisticRegression(C=2)\n",
    "    svm = SVC(C=10000, probability=True)\n",
    "    knn = KNeighborsClassifier(n_neighbors=5)\n",
    "    rf = RandomForestClassifier()\n",
    "    gb = GradientBoostingClassifier()\n",
    "\n",
    "    models = [nb,lg]\n",
    "\n",
    "    return models"
   ]
  },
  {
   "cell_type": "code",
   "execution_count": 6,
   "metadata": {
    "ExecuteTime": {
     "end_time": "2019-04-22T15:46:36.221705Z",
     "start_time": "2019-04-22T15:46:36.211952Z"
    }
   },
   "outputs": [
    {
     "data": {
      "text/plain": [
       "[MultinomialNB(alpha=0.04, class_prior=None, fit_prior=True),\n",
       " LogisticRegression(C=2, class_weight=None, dual=False, fit_intercept=True,\n",
       "           intercept_scaling=1, max_iter=100, multi_class='warn',\n",
       "           n_jobs=None, penalty='l2', random_state=None, solver='warn',\n",
       "           tol=0.0001, verbose=0, warm_start=False)]"
      ]
     },
     "execution_count": 6,
     "metadata": {},
     "output_type": "execute_result"
    }
   ],
   "source": [
    "base_learners = get_models()\n",
    "base_learners"
   ]
  },
  {
   "cell_type": "markdown",
   "metadata": {},
   "source": [
    "#### 定义权重分配模型（第二层架构）"
   ]
  },
  {
   "cell_type": "code",
   "execution_count": 7,
   "metadata": {
    "ExecuteTime": {
     "end_time": "2019-04-22T15:46:38.794812Z",
     "start_time": "2019-04-22T15:46:38.792231Z"
    }
   },
   "outputs": [],
   "source": [
    "# meta_learner = LogisticRegression(C=2)\n",
    "meta_learner = SVC(C=50, probability=True)"
   ]
  },
  {
   "cell_type": "markdown",
   "metadata": {},
   "source": [
    "#### 将基础模型分成两部分，主要供第二层来使用"
   ]
  },
  {
   "cell_type": "code",
   "execution_count": 8,
   "metadata": {
    "ExecuteTime": {
     "end_time": "2019-04-22T15:46:44.902302Z",
     "start_time": "2019-04-22T15:46:43.695474Z"
    }
   },
   "outputs": [],
   "source": [
    "import pandas as pd\n",
    "df_news = pd.read_excel('../../data/分词并去停用词的新闻数据.xlsx')"
   ]
  },
  {
   "cell_type": "code",
   "execution_count": 9,
   "metadata": {
    "ExecuteTime": {
     "end_time": "2019-04-22T15:46:48.106614Z",
     "start_time": "2019-04-22T15:46:45.580919Z"
    }
   },
   "outputs": [],
   "source": [
    "X = df_news['content']\n",
    "y = df_news['label']\n",
    "\n",
    "dic = {'体育':0, '军事':1, '国际':2, '娱乐':3, '时尚':4, '汽车':5, '科技':6, '财经':7}\n",
    "\n",
    "y = y.apply(lambda x:dic[x])\n",
    "\n",
    "# from sklearn.feature_extraction.text import TfidfVectorizer\n",
    "# vect = TfidfVectorizer(max_features=30000, lowercase=False).fit(X)\n",
    "# X_tfidf = vect.transform(X)\n",
    "\n",
    "# 切分为训练集和测试集\n",
    "from sklearn.model_selection import train_test_split\n",
    "X_train, X_test, y_train, y_test = train_test_split(X, y, test_size=0.2, random_state=0)\n",
    "\n",
    "X_train.index = range(len(X_train))\n",
    "y_train.index = range(len(y_train))\n",
    "X_test.index = range(len(X_test))\n",
    "y_test.index = range(len(y_test))\n",
    "\n",
    "# 加载tf-idf模型\n",
    "with open('models_save/vect.pkl', 'rb') as f:\n",
    "    vect = pickle.load(f)\n",
    "X_train_tfidf = vect.transform(X_train)\n",
    "X_test_tfidf = vect.transform(X_test)"
   ]
  },
  {
   "cell_type": "code",
   "execution_count": 336,
   "metadata": {
    "ExecuteTime": {
     "end_time": "2019-04-22T07:58:25.606674Z",
     "start_time": "2019-04-22T07:58:25.601860Z"
    }
   },
   "outputs": [
    {
     "data": {
      "text/plain": [
       "(7639, 30000)"
      ]
     },
     "execution_count": 336,
     "metadata": {},
     "output_type": "execute_result"
    }
   ],
   "source": [
    "X_train_tfidf.shape"
   ]
  },
  {
   "cell_type": "code",
   "execution_count": 337,
   "metadata": {
    "ExecuteTime": {
     "end_time": "2019-04-22T07:58:26.345003Z",
     "start_time": "2019-04-22T07:58:26.341152Z"
    }
   },
   "outputs": [
    {
     "data": {
      "text/plain": [
       "(1910, 30000)"
      ]
     },
     "execution_count": 337,
     "metadata": {},
     "output_type": "execute_result"
    }
   ],
   "source": [
    "X_test_tfidf.shape"
   ]
  },
  {
   "cell_type": "code",
   "execution_count": 1,
   "metadata": {
    "ExecuteTime": {
     "end_time": "2019-04-22T15:53:32.267639Z",
     "start_time": "2019-04-22T15:53:30.154708Z"
    }
   },
   "outputs": [],
   "source": [
    "from sklearn.model_selection import KFold\n",
    "from sklearn.base import BaseEstimator, ClassifierMixin, TransformerMixin, clone\n",
    "import numpy as np\n",
    "#对于分类问题可以使用 ClassifierMixin\n",
    "\n",
    "\n",
    "class StackingModels(BaseEstimator, ClassifierMixin, TransformerMixin):\n",
    "    def __init__(self, base_models, meta_model, n_folds=5):\n",
    "        self.base_models = base_models\n",
    "        self.meta_model = meta_model\n",
    "        self.n_folds = n_folds\n",
    "\n",
    "    # 我们将原来的模型clone出来，并且进行实现fit功能\n",
    "    def fit(self, X, y):\n",
    "        \n",
    "        self.base_models_ = [list() for x in self.base_models]\n",
    "\n",
    "        kfold = KFold(n_splits=self.n_folds, shuffle=True, random_state=156)\n",
    "\n",
    "        #对于每个模型，使用交叉验证的方法来训练初级学习器，并且得到次级训练集\n",
    "        out_of_fold_predictions = np.zeros((X.shape[0], len(self.base_models)*8))\n",
    "        \n",
    "        for i, model in enumerate(self.base_models):\n",
    "            print(\"正在训练第{}个model\".format(i+1))\n",
    "            j = 1\n",
    "            for train_index, holdout_index in kfold.split(X, y):\n",
    "                instance = clone(model)\n",
    "                instance.fit(X[train_index], y[train_index])\n",
    "                self.base_models_[i].append(instance)\n",
    "                y_pred = instance.predict_proba(X[holdout_index])\n",
    "                out_of_fold_predictions[holdout_index, i*8:(i+1)*8] = y_pred\n",
    "                print(\"Fold {} done\".format(j))\n",
    "                j += 1         \n",
    "        print('fit meta_model!')\n",
    "        # 使用次级训练集来训练次级学习器\n",
    "        self.meta_model.fit(out_of_fold_predictions, y)\n",
    "        return self\n",
    "    \n",
    "\n",
    "    #在上面的fit方法当中，我们已经将我们训练出来的初级学习器和次级学习器保存下来了\n",
    "    #predict的时候只需要用这些学习器构造我们的次级预测数据集并且进行预测就可以了\n",
    "    def predict(self, X):\n",
    "        meta_features = np.zeros((X.shape[0], len(self.base_models)*8))\n",
    "        for i,models in enumerate(self.base_models_):\n",
    "            fold_xtest = np.zeros((X.shape[0],8))\n",
    "            for model in models:\n",
    "                fold_xtest += model.predict_proba(X)\n",
    "            meta_features[:, i*8:(i+1)*8] = fold_xtest / self.n_folds\n",
    "        return self.meta_model.predict(meta_features), self.meta_model.predict_proba(meta_features)"
   ]
  },
  {
   "cell_type": "code",
   "execution_count": 10,
   "metadata": {
    "ExecuteTime": {
     "end_time": "2019-04-22T15:46:57.871513Z",
     "start_time": "2019-04-22T15:46:57.868803Z"
    }
   },
   "outputs": [],
   "source": [
    "stack = StackingModels(base_learners, meta_learner)"
   ]
  },
  {
   "cell_type": "code",
   "execution_count": 11,
   "metadata": {
    "ExecuteTime": {
     "end_time": "2019-04-22T15:47:08.865471Z",
     "start_time": "2019-04-22T15:46:58.837177Z"
    }
   },
   "outputs": [
    {
     "name": "stdout",
     "output_type": "stream",
     "text": [
      "正在训练第1个model\n",
      "Fold 1 done\n",
      "Fold 2 done\n",
      "Fold 3 done\n",
      "Fold 4 done\n",
      "Fold 5 done\n",
      "正在训练第2个model\n"
     ]
    },
    {
     "name": "stderr",
     "output_type": "stream",
     "text": [
      "/Applications/anaconda3/lib/python3.6/site-packages/sklearn/linear_model/logistic.py:433: FutureWarning: Default solver will be changed to 'lbfgs' in 0.22. Specify a solver to silence this warning.\n",
      "  FutureWarning)\n",
      "/Applications/anaconda3/lib/python3.6/site-packages/sklearn/linear_model/logistic.py:460: FutureWarning: Default multi_class will be changed to 'auto' in 0.22. Specify the multi_class option to silence this warning.\n",
      "  \"this warning.\", FutureWarning)\n"
     ]
    },
    {
     "name": "stdout",
     "output_type": "stream",
     "text": [
      "Fold 1 done\n",
      "Fold 2 done\n",
      "Fold 3 done\n",
      "Fold 4 done\n",
      "Fold 5 done\n",
      "fit meta_model!\n"
     ]
    },
    {
     "name": "stderr",
     "output_type": "stream",
     "text": [
      "/Applications/anaconda3/lib/python3.6/site-packages/sklearn/svm/base.py:196: FutureWarning: The default value of gamma will change from 'auto' to 'scale' in version 0.22 to account better for unscaled features. Set gamma explicitly to 'auto' or 'scale' to avoid this warning.\n",
      "  \"avoid this warning.\", FutureWarning)\n"
     ]
    },
    {
     "data": {
      "text/plain": [
       "StackingModels(base_models=[MultinomialNB(alpha=0.04, class_prior=None, fit_prior=True), LogisticRegression(C=2, class_weight=None, dual=False, fit_intercept=True,\n",
       "          intercept_scaling=1, max_iter=100, multi_class='warn',\n",
       "          n_jobs=None, penalty='l2', random_state=None, solver='warn',\n",
       "          tol=0.0001, verbose=0, warm_start=False)],\n",
       "        meta_model=SVC(C=50, cache_size=200, class_weight=None, coef0=0.0,\n",
       "  decision_function_shape='ovr', degree=3, gamma='auto_deprecated',\n",
       "  kernel='rbf', max_iter=-1, probability=True, random_state=None,\n",
       "  shrinking=True, tol=0.001, verbose=False),\n",
       "        n_folds=5)"
      ]
     },
     "execution_count": 11,
     "metadata": {},
     "output_type": "execute_result"
    }
   ],
   "source": [
    "stack.fit(X_train_tfidf, y_train)"
   ]
  },
  {
   "cell_type": "code",
   "execution_count": 12,
   "metadata": {
    "ExecuteTime": {
     "end_time": "2019-04-22T15:47:13.519786Z",
     "start_time": "2019-04-22T15:47:13.181448Z"
    }
   },
   "outputs": [],
   "source": [
    "y_pred, _ = stack.predict(X_test_tfidf)"
   ]
  },
  {
   "cell_type": "code",
   "execution_count": 13,
   "metadata": {
    "ExecuteTime": {
     "end_time": "2019-04-22T15:47:14.454692Z",
     "start_time": "2019-04-22T15:47:14.450288Z"
    }
   },
   "outputs": [
    {
     "data": {
      "text/plain": [
       "0.8507853403141361"
      ]
     },
     "execution_count": 13,
     "metadata": {},
     "output_type": "execute_result"
    }
   ],
   "source": [
    "sum(y_pred == y_test) / len(y_test)"
   ]
  },
  {
   "cell_type": "code",
   "execution_count": 14,
   "metadata": {
    "ExecuteTime": {
     "end_time": "2019-04-22T15:47:22.016951Z",
     "start_time": "2019-04-22T15:47:21.994063Z"
    }
   },
   "outputs": [
    {
     "name": "stdout",
     "output_type": "stream",
     "text": [
      "              precision    recall  f1-score   support\n",
      "\n",
      "          体育       0.99      1.00      0.99       209\n",
      "          军事       0.74      0.85      0.79       199\n",
      "          国际       0.82      0.68      0.74       218\n",
      "          娱乐       0.88      0.89      0.88       189\n",
      "          时尚       0.93      0.93      0.93       314\n",
      "          汽车       0.96      0.96      0.96       252\n",
      "          科技       0.71      0.82      0.76       260\n",
      "          财经       0.80      0.68      0.73       269\n",
      "\n",
      "   micro avg       0.85      0.85      0.85      1910\n",
      "   macro avg       0.85      0.85      0.85      1910\n",
      "weighted avg       0.85      0.85      0.85      1910\n",
      "\n"
     ]
    }
   ],
   "source": [
    "from sklearn.metrics import classification_report\n",
    "labels = {v:k for k,v in dic.items()}\n",
    "y_test = y_test.apply(lambda x:labels[x])\n",
    "y_pred = [labels[i] for i in y_pred.tolist()]\n",
    "print(classification_report(y_test, y_pred))"
   ]
  },
  {
   "cell_type": "code",
   "execution_count": 355,
   "metadata": {
    "ExecuteTime": {
     "end_time": "2019-04-22T14:28:06.479741Z",
     "start_time": "2019-04-22T14:28:06.401188Z"
    }
   },
   "outputs": [],
   "source": [
    "import pickle\n",
    "\n",
    "pickle.dump(stack, open(\"./models_save/Stacking.pkl\", 'wb'))"
   ]
  }
 ],
 "metadata": {
  "hide_input": false,
  "kernelspec": {
   "display_name": "Python 3",
   "language": "python",
   "name": "python3"
  },
  "language_info": {
   "codemirror_mode": {
    "name": "ipython",
    "version": 3
   },
   "file_extension": ".py",
   "mimetype": "text/x-python",
   "name": "python",
   "nbconvert_exporter": "python",
   "pygments_lexer": "ipython3",
   "version": "3.6.5"
  },
  "toc": {
   "base_numbering": 1,
   "nav_menu": {},
   "number_sections": true,
   "sideBar": true,
   "skip_h1_title": false,
   "title_cell": "Table of Contents",
   "title_sidebar": "Contents",
   "toc_cell": false,
   "toc_position": {},
   "toc_section_display": true,
   "toc_window_display": true
  },
  "varInspector": {
   "cols": {
    "lenName": 16,
    "lenType": 16,
    "lenVar": 40
   },
   "kernels_config": {
    "python": {
     "delete_cmd_postfix": "",
     "delete_cmd_prefix": "del ",
     "library": "var_list.py",
     "varRefreshCmd": "print(var_dic_list())"
    },
    "r": {
     "delete_cmd_postfix": ") ",
     "delete_cmd_prefix": "rm(",
     "library": "var_list.r",
     "varRefreshCmd": "cat(var_dic_list()) "
    }
   },
   "types_to_exclude": [
    "module",
    "function",
    "builtin_function_or_method",
    "instance",
    "_Feature"
   ],
   "window_display": false
  }
 },
 "nbformat": 4,
 "nbformat_minor": 2
}
